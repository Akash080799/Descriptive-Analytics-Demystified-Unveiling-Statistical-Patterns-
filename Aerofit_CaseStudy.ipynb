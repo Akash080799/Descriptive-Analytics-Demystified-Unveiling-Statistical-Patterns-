{
 "cells": [
  {
   "cell_type": "markdown",
   "id": "8f2cb7c7",
   "metadata": {},
   "source": [
    "## Aerofit Business Case Study"
   ]
  },
  {
   "cell_type": "markdown",
   "id": "e8abf718",
   "metadata": {},
   "source": [
    "Aerofit is a leading fitness company in the field of fitness equipments. Aerofit provides a product range including machines such as treadmills, exercise bikes, gym equipment, and fitness accessories to cater to the needs of all categories of people. "
   ]
  },
  {
   "cell_type": "markdown",
   "id": "088ab272",
   "metadata": {},
   "source": [
    "#### Business Problem::\n",
    "\n",
    "The market research team at the company wants to identify the characteristics of the target audience for each type of treadmill offered by the company, to provide a better recommendation of the treadmills to the new customers. The team decides to investigate whether there are differences across the product with respect to customer characteristics.\n",
    "\n",
    "1. Perform descriptive analytics to create a customer profile for each treadmill product by developing appropriate tables and charts.\n",
    "\n",
    "2. For each treadmill product, construct two-way contingency tables and compute all conditional and marginal probabilities along with their insights/impact on the business."
   ]
  },
  {
   "cell_type": "markdown",
   "id": "6987e2db",
   "metadata": {},
   "source": [
    "**Product Portfolio:**\n",
    "\n",
    "* The KP281 is an entry-level treadmill that sells for \\\\$ 1,500.\n",
    "* The KP481 is for mid-level runners that sell for \\\\$ 1,750.\n",
    "* The KP781 treadmill is having advanced features that sell for \\\\$ 2,500."
   ]
  },
  {
   "cell_type": "markdown",
   "id": "b05cade7",
   "metadata": {},
   "source": [
    "#### Installing necessary libraries for the analysis"
   ]
  },
  {
   "cell_type": "code",
   "execution_count": 1,
   "id": "33c23c2a",
   "metadata": {},
   "outputs": [
    {
     "name": "stdout",
     "output_type": "stream",
     "text": [
      "Requirement already satisfied: pandas in c:\\anaconda\\lib\\site-packages (1.5.3)\n",
      "Requirement already satisfied: python-dateutil>=2.8.1 in c:\\anaconda\\lib\\site-packages (from pandas) (2.8.2)\n",
      "Requirement already satisfied: numpy>=1.21.0 in c:\\anaconda\\lib\\site-packages (from pandas) (1.23.5)\n",
      "Requirement already satisfied: pytz>=2020.1 in c:\\anaconda\\lib\\site-packages (from pandas) (2022.7)\n",
      "Requirement already satisfied: six>=1.5 in c:\\anaconda\\lib\\site-packages (from python-dateutil>=2.8.1->pandas) (1.16.0)\n",
      "Requirement already satisfied: seaborn in c:\\anaconda\\lib\\site-packages (0.12.2)\n",
      "Requirement already satisfied: numpy!=1.24.0,>=1.17 in c:\\anaconda\\lib\\site-packages (from seaborn) (1.23.5)\n",
      "Requirement already satisfied: matplotlib!=3.6.1,>=3.1 in c:\\anaconda\\lib\\site-packages (from seaborn) (3.7.0)\n",
      "Requirement already satisfied: pandas>=0.25 in c:\\anaconda\\lib\\site-packages (from seaborn) (1.5.3)\n",
      "Requirement already satisfied: packaging>=20.0 in c:\\anaconda\\lib\\site-packages (from matplotlib!=3.6.1,>=3.1->seaborn) (22.0)\n",
      "Requirement already satisfied: fonttools>=4.22.0 in c:\\anaconda\\lib\\site-packages (from matplotlib!=3.6.1,>=3.1->seaborn) (4.25.0)\n",
      "Requirement already satisfied: cycler>=0.10 in c:\\anaconda\\lib\\site-packages (from matplotlib!=3.6.1,>=3.1->seaborn) (0.11.0)\n",
      "Requirement already satisfied: kiwisolver>=1.0.1 in c:\\anaconda\\lib\\site-packages (from matplotlib!=3.6.1,>=3.1->seaborn) (1.4.4)\n",
      "Requirement already satisfied: pillow>=6.2.0 in c:\\anaconda\\lib\\site-packages (from matplotlib!=3.6.1,>=3.1->seaborn) (9.4.0)\n",
      "Requirement already satisfied: contourpy>=1.0.1 in c:\\anaconda\\lib\\site-packages (from matplotlib!=3.6.1,>=3.1->seaborn) (1.0.5)\n",
      "Requirement already satisfied: pyparsing>=2.3.1 in c:\\anaconda\\lib\\site-packages (from matplotlib!=3.6.1,>=3.1->seaborn) (3.0.9)\n",
      "Requirement already satisfied: python-dateutil>=2.7 in c:\\anaconda\\lib\\site-packages (from matplotlib!=3.6.1,>=3.1->seaborn) (2.8.2)\n",
      "Requirement already satisfied: pytz>=2020.1 in c:\\anaconda\\lib\\site-packages (from pandas>=0.25->seaborn) (2022.7)\n",
      "Requirement already satisfied: six>=1.5 in c:\\anaconda\\lib\\site-packages (from python-dateutil>=2.7->matplotlib!=3.6.1,>=3.1->seaborn) (1.16.0)\n",
      "Requirement already satisfied: matplotlib in c:\\anaconda\\lib\\site-packages (3.7.0)\n",
      "Requirement already satisfied: pyparsing>=2.3.1 in c:\\anaconda\\lib\\site-packages (from matplotlib) (3.0.9)\n",
      "Requirement already satisfied: numpy>=1.20 in c:\\anaconda\\lib\\site-packages (from matplotlib) (1.23.5)\n",
      "Requirement already satisfied: packaging>=20.0 in c:\\anaconda\\lib\\site-packages (from matplotlib) (22.0)\n",
      "Requirement already satisfied: pillow>=6.2.0 in c:\\anaconda\\lib\\site-packages (from matplotlib) (9.4.0)\n",
      "Requirement already satisfied: cycler>=0.10 in c:\\anaconda\\lib\\site-packages (from matplotlib) (0.11.0)\n",
      "Requirement already satisfied: kiwisolver>=1.0.1 in c:\\anaconda\\lib\\site-packages (from matplotlib) (1.4.4)\n",
      "Requirement already satisfied: python-dateutil>=2.7 in c:\\anaconda\\lib\\site-packages (from matplotlib) (2.8.2)\n",
      "Requirement already satisfied: fonttools>=4.22.0 in c:\\anaconda\\lib\\site-packages (from matplotlib) (4.25.0)\n",
      "Requirement already satisfied: contourpy>=1.0.1 in c:\\anaconda\\lib\\site-packages (from matplotlib) (1.0.5)\n",
      "Requirement already satisfied: six>=1.5 in c:\\anaconda\\lib\\site-packages (from python-dateutil>=2.7->matplotlib) (1.16.0)\n"
     ]
    }
   ],
   "source": [
    "!pip install pandas\n",
    "!pip install seaborn\n",
    "!pip install matplotlib"
   ]
  },
  {
   "cell_type": "code",
   "execution_count": 2,
   "id": "8ee9da20",
   "metadata": {},
   "outputs": [],
   "source": [
    "import numpy as np\n",
    "import pandas as pd\n",
    "import matplotlib.pyplot as plt\n",
    "import seaborn as sns"
   ]
  },
  {
   "cell_type": "markdown",
   "id": "e6fc8e1f",
   "metadata": {},
   "source": [
    "#### Importing the dataset."
   ]
  },
  {
   "cell_type": "code",
   "execution_count": 3,
   "id": "fd1c9c55",
   "metadata": {},
   "outputs": [
    {
     "data": {
      "text/html": [
       "<div>\n",
       "<style scoped>\n",
       "    .dataframe tbody tr th:only-of-type {\n",
       "        vertical-align: middle;\n",
       "    }\n",
       "\n",
       "    .dataframe tbody tr th {\n",
       "        vertical-align: top;\n",
       "    }\n",
       "\n",
       "    .dataframe thead th {\n",
       "        text-align: right;\n",
       "    }\n",
       "</style>\n",
       "<table border=\"1\" class=\"dataframe\">\n",
       "  <thead>\n",
       "    <tr style=\"text-align: right;\">\n",
       "      <th></th>\n",
       "      <th>Product</th>\n",
       "      <th>Age</th>\n",
       "      <th>Gender</th>\n",
       "      <th>Education</th>\n",
       "      <th>MaritalStatus</th>\n",
       "      <th>Usage</th>\n",
       "      <th>Fitness</th>\n",
       "      <th>Income</th>\n",
       "      <th>Miles</th>\n",
       "    </tr>\n",
       "  </thead>\n",
       "  <tbody>\n",
       "    <tr>\n",
       "      <th>0</th>\n",
       "      <td>KP281</td>\n",
       "      <td>18</td>\n",
       "      <td>Male</td>\n",
       "      <td>14</td>\n",
       "      <td>Single</td>\n",
       "      <td>3</td>\n",
       "      <td>4</td>\n",
       "      <td>29562</td>\n",
       "      <td>112</td>\n",
       "    </tr>\n",
       "    <tr>\n",
       "      <th>1</th>\n",
       "      <td>KP281</td>\n",
       "      <td>19</td>\n",
       "      <td>Male</td>\n",
       "      <td>15</td>\n",
       "      <td>Single</td>\n",
       "      <td>2</td>\n",
       "      <td>3</td>\n",
       "      <td>31836</td>\n",
       "      <td>75</td>\n",
       "    </tr>\n",
       "    <tr>\n",
       "      <th>2</th>\n",
       "      <td>KP281</td>\n",
       "      <td>19</td>\n",
       "      <td>Female</td>\n",
       "      <td>14</td>\n",
       "      <td>Partnered</td>\n",
       "      <td>4</td>\n",
       "      <td>3</td>\n",
       "      <td>30699</td>\n",
       "      <td>66</td>\n",
       "    </tr>\n",
       "    <tr>\n",
       "      <th>3</th>\n",
       "      <td>KP281</td>\n",
       "      <td>19</td>\n",
       "      <td>Male</td>\n",
       "      <td>12</td>\n",
       "      <td>Single</td>\n",
       "      <td>3</td>\n",
       "      <td>3</td>\n",
       "      <td>32973</td>\n",
       "      <td>85</td>\n",
       "    </tr>\n",
       "    <tr>\n",
       "      <th>4</th>\n",
       "      <td>KP281</td>\n",
       "      <td>20</td>\n",
       "      <td>Male</td>\n",
       "      <td>13</td>\n",
       "      <td>Partnered</td>\n",
       "      <td>4</td>\n",
       "      <td>2</td>\n",
       "      <td>35247</td>\n",
       "      <td>47</td>\n",
       "    </tr>\n",
       "  </tbody>\n",
       "</table>\n",
       "</div>"
      ],
      "text/plain": [
       "  Product  Age  Gender  Education MaritalStatus  Usage  Fitness  Income  Miles\n",
       "0   KP281   18    Male         14        Single      3        4   29562    112\n",
       "1   KP281   19    Male         15        Single      2        3   31836     75\n",
       "2   KP281   19  Female         14     Partnered      4        3   30699     66\n",
       "3   KP281   19    Male         12        Single      3        3   32973     85\n",
       "4   KP281   20    Male         13     Partnered      4        2   35247     47"
      ]
     },
     "execution_count": 3,
     "metadata": {},
     "output_type": "execute_result"
    }
   ],
   "source": [
    "df = pd.read_csv(\"aerofit_treadmill.txt\",delimiter=',')\n",
    "df.head()"
   ]
  },
  {
   "cell_type": "markdown",
   "id": "6e8d57a1",
   "metadata": {},
   "source": [
    "##### Basic exploration of the dataset"
   ]
  },
  {
   "cell_type": "code",
   "execution_count": 4,
   "id": "112d78e9",
   "metadata": {},
   "outputs": [
    {
     "data": {
      "text/plain": [
       "(180, 9)"
      ]
     },
     "execution_count": 4,
     "metadata": {},
     "output_type": "execute_result"
    }
   ],
   "source": [
    "df.shape"
   ]
  },
  {
   "cell_type": "markdown",
   "id": "4c9b8633",
   "metadata": {},
   "source": [
    "The Shape of the dataset is 180 X 9. It has 180 records with 9 different features."
   ]
  },
  {
   "cell_type": "code",
   "execution_count": 5,
   "id": "4d9e258a",
   "metadata": {},
   "outputs": [
    {
     "name": "stdout",
     "output_type": "stream",
     "text": [
      "<class 'pandas.core.frame.DataFrame'>\n",
      "RangeIndex: 180 entries, 0 to 179\n",
      "Data columns (total 9 columns):\n",
      " #   Column         Non-Null Count  Dtype \n",
      "---  ------         --------------  ----- \n",
      " 0   Product        180 non-null    object\n",
      " 1   Age            180 non-null    int64 \n",
      " 2   Gender         180 non-null    object\n",
      " 3   Education      180 non-null    int64 \n",
      " 4   MaritalStatus  180 non-null    object\n",
      " 5   Usage          180 non-null    int64 \n",
      " 6   Fitness        180 non-null    int64 \n",
      " 7   Income         180 non-null    int64 \n",
      " 8   Miles          180 non-null    int64 \n",
      "dtypes: int64(6), object(3)\n",
      "memory usage: 12.8+ KB\n"
     ]
    }
   ],
   "source": [
    "df.info()"
   ]
  },
  {
   "cell_type": "markdown",
   "id": "3bb1b881",
   "metadata": {},
   "source": [
    "The features Product, Gender and MaritalStatus are of string data type and the rest of the other features are of integer data type"
   ]
  },
  {
   "cell_type": "code",
   "execution_count": 6,
   "id": "27a52f14",
   "metadata": {},
   "outputs": [
    {
     "data": {
      "text/html": [
       "<div>\n",
       "<style scoped>\n",
       "    .dataframe tbody tr th:only-of-type {\n",
       "        vertical-align: middle;\n",
       "    }\n",
       "\n",
       "    .dataframe tbody tr th {\n",
       "        vertical-align: top;\n",
       "    }\n",
       "\n",
       "    .dataframe thead th {\n",
       "        text-align: right;\n",
       "    }\n",
       "</style>\n",
       "<table border=\"1\" class=\"dataframe\">\n",
       "  <thead>\n",
       "    <tr style=\"text-align: right;\">\n",
       "      <th></th>\n",
       "      <th>Age</th>\n",
       "      <th>Education</th>\n",
       "      <th>Usage</th>\n",
       "      <th>Fitness</th>\n",
       "      <th>Income</th>\n",
       "      <th>Miles</th>\n",
       "    </tr>\n",
       "  </thead>\n",
       "  <tbody>\n",
       "    <tr>\n",
       "      <th>count</th>\n",
       "      <td>180.000000</td>\n",
       "      <td>180.000000</td>\n",
       "      <td>180.000000</td>\n",
       "      <td>180.000000</td>\n",
       "      <td>180.000000</td>\n",
       "      <td>180.000000</td>\n",
       "    </tr>\n",
       "    <tr>\n",
       "      <th>mean</th>\n",
       "      <td>28.788889</td>\n",
       "      <td>15.572222</td>\n",
       "      <td>3.455556</td>\n",
       "      <td>3.311111</td>\n",
       "      <td>53719.577778</td>\n",
       "      <td>103.194444</td>\n",
       "    </tr>\n",
       "    <tr>\n",
       "      <th>std</th>\n",
       "      <td>6.943498</td>\n",
       "      <td>1.617055</td>\n",
       "      <td>1.084797</td>\n",
       "      <td>0.958869</td>\n",
       "      <td>16506.684226</td>\n",
       "      <td>51.863605</td>\n",
       "    </tr>\n",
       "    <tr>\n",
       "      <th>min</th>\n",
       "      <td>18.000000</td>\n",
       "      <td>12.000000</td>\n",
       "      <td>2.000000</td>\n",
       "      <td>1.000000</td>\n",
       "      <td>29562.000000</td>\n",
       "      <td>21.000000</td>\n",
       "    </tr>\n",
       "    <tr>\n",
       "      <th>25%</th>\n",
       "      <td>24.000000</td>\n",
       "      <td>14.000000</td>\n",
       "      <td>3.000000</td>\n",
       "      <td>3.000000</td>\n",
       "      <td>44058.750000</td>\n",
       "      <td>66.000000</td>\n",
       "    </tr>\n",
       "    <tr>\n",
       "      <th>50%</th>\n",
       "      <td>26.000000</td>\n",
       "      <td>16.000000</td>\n",
       "      <td>3.000000</td>\n",
       "      <td>3.000000</td>\n",
       "      <td>50596.500000</td>\n",
       "      <td>94.000000</td>\n",
       "    </tr>\n",
       "    <tr>\n",
       "      <th>75%</th>\n",
       "      <td>33.000000</td>\n",
       "      <td>16.000000</td>\n",
       "      <td>4.000000</td>\n",
       "      <td>4.000000</td>\n",
       "      <td>58668.000000</td>\n",
       "      <td>114.750000</td>\n",
       "    </tr>\n",
       "    <tr>\n",
       "      <th>max</th>\n",
       "      <td>50.000000</td>\n",
       "      <td>21.000000</td>\n",
       "      <td>7.000000</td>\n",
       "      <td>5.000000</td>\n",
       "      <td>104581.000000</td>\n",
       "      <td>360.000000</td>\n",
       "    </tr>\n",
       "  </tbody>\n",
       "</table>\n",
       "</div>"
      ],
      "text/plain": [
       "              Age   Education       Usage     Fitness         Income  \\\n",
       "count  180.000000  180.000000  180.000000  180.000000     180.000000   \n",
       "mean    28.788889   15.572222    3.455556    3.311111   53719.577778   \n",
       "std      6.943498    1.617055    1.084797    0.958869   16506.684226   \n",
       "min     18.000000   12.000000    2.000000    1.000000   29562.000000   \n",
       "25%     24.000000   14.000000    3.000000    3.000000   44058.750000   \n",
       "50%     26.000000   16.000000    3.000000    3.000000   50596.500000   \n",
       "75%     33.000000   16.000000    4.000000    4.000000   58668.000000   \n",
       "max     50.000000   21.000000    7.000000    5.000000  104581.000000   \n",
       "\n",
       "            Miles  \n",
       "count  180.000000  \n",
       "mean   103.194444  \n",
       "std     51.863605  \n",
       "min     21.000000  \n",
       "25%     66.000000  \n",
       "50%     94.000000  \n",
       "75%    114.750000  \n",
       "max    360.000000  "
      ]
     },
     "execution_count": 6,
     "metadata": {},
     "output_type": "execute_result"
    }
   ],
   "source": [
    "df.describe()  #This includes only the numerical features of the dataset."
   ]
  },
  {
   "cell_type": "markdown",
   "id": "587d525e",
   "metadata": {},
   "source": [
    "Describing the dataset with all the other features."
   ]
  },
  {
   "cell_type": "code",
   "execution_count": 7,
   "id": "a33335f5",
   "metadata": {},
   "outputs": [
    {
     "data": {
      "text/html": [
       "<div>\n",
       "<style scoped>\n",
       "    .dataframe tbody tr th:only-of-type {\n",
       "        vertical-align: middle;\n",
       "    }\n",
       "\n",
       "    .dataframe tbody tr th {\n",
       "        vertical-align: top;\n",
       "    }\n",
       "\n",
       "    .dataframe thead th {\n",
       "        text-align: right;\n",
       "    }\n",
       "</style>\n",
       "<table border=\"1\" class=\"dataframe\">\n",
       "  <thead>\n",
       "    <tr style=\"text-align: right;\">\n",
       "      <th></th>\n",
       "      <th>Product</th>\n",
       "      <th>Age</th>\n",
       "      <th>Gender</th>\n",
       "      <th>Education</th>\n",
       "      <th>MaritalStatus</th>\n",
       "      <th>Usage</th>\n",
       "      <th>Fitness</th>\n",
       "      <th>Income</th>\n",
       "      <th>Miles</th>\n",
       "    </tr>\n",
       "  </thead>\n",
       "  <tbody>\n",
       "    <tr>\n",
       "      <th>count</th>\n",
       "      <td>180</td>\n",
       "      <td>180.000000</td>\n",
       "      <td>180</td>\n",
       "      <td>180.000000</td>\n",
       "      <td>180</td>\n",
       "      <td>180.000000</td>\n",
       "      <td>180.000000</td>\n",
       "      <td>180.000000</td>\n",
       "      <td>180.000000</td>\n",
       "    </tr>\n",
       "    <tr>\n",
       "      <th>unique</th>\n",
       "      <td>3</td>\n",
       "      <td>NaN</td>\n",
       "      <td>2</td>\n",
       "      <td>NaN</td>\n",
       "      <td>2</td>\n",
       "      <td>NaN</td>\n",
       "      <td>NaN</td>\n",
       "      <td>NaN</td>\n",
       "      <td>NaN</td>\n",
       "    </tr>\n",
       "    <tr>\n",
       "      <th>top</th>\n",
       "      <td>KP281</td>\n",
       "      <td>NaN</td>\n",
       "      <td>Male</td>\n",
       "      <td>NaN</td>\n",
       "      <td>Partnered</td>\n",
       "      <td>NaN</td>\n",
       "      <td>NaN</td>\n",
       "      <td>NaN</td>\n",
       "      <td>NaN</td>\n",
       "    </tr>\n",
       "    <tr>\n",
       "      <th>freq</th>\n",
       "      <td>80</td>\n",
       "      <td>NaN</td>\n",
       "      <td>104</td>\n",
       "      <td>NaN</td>\n",
       "      <td>107</td>\n",
       "      <td>NaN</td>\n",
       "      <td>NaN</td>\n",
       "      <td>NaN</td>\n",
       "      <td>NaN</td>\n",
       "    </tr>\n",
       "    <tr>\n",
       "      <th>mean</th>\n",
       "      <td>NaN</td>\n",
       "      <td>28.788889</td>\n",
       "      <td>NaN</td>\n",
       "      <td>15.572222</td>\n",
       "      <td>NaN</td>\n",
       "      <td>3.455556</td>\n",
       "      <td>3.311111</td>\n",
       "      <td>53719.577778</td>\n",
       "      <td>103.194444</td>\n",
       "    </tr>\n",
       "    <tr>\n",
       "      <th>std</th>\n",
       "      <td>NaN</td>\n",
       "      <td>6.943498</td>\n",
       "      <td>NaN</td>\n",
       "      <td>1.617055</td>\n",
       "      <td>NaN</td>\n",
       "      <td>1.084797</td>\n",
       "      <td>0.958869</td>\n",
       "      <td>16506.684226</td>\n",
       "      <td>51.863605</td>\n",
       "    </tr>\n",
       "    <tr>\n",
       "      <th>min</th>\n",
       "      <td>NaN</td>\n",
       "      <td>18.000000</td>\n",
       "      <td>NaN</td>\n",
       "      <td>12.000000</td>\n",
       "      <td>NaN</td>\n",
       "      <td>2.000000</td>\n",
       "      <td>1.000000</td>\n",
       "      <td>29562.000000</td>\n",
       "      <td>21.000000</td>\n",
       "    </tr>\n",
       "    <tr>\n",
       "      <th>25%</th>\n",
       "      <td>NaN</td>\n",
       "      <td>24.000000</td>\n",
       "      <td>NaN</td>\n",
       "      <td>14.000000</td>\n",
       "      <td>NaN</td>\n",
       "      <td>3.000000</td>\n",
       "      <td>3.000000</td>\n",
       "      <td>44058.750000</td>\n",
       "      <td>66.000000</td>\n",
       "    </tr>\n",
       "    <tr>\n",
       "      <th>50%</th>\n",
       "      <td>NaN</td>\n",
       "      <td>26.000000</td>\n",
       "      <td>NaN</td>\n",
       "      <td>16.000000</td>\n",
       "      <td>NaN</td>\n",
       "      <td>3.000000</td>\n",
       "      <td>3.000000</td>\n",
       "      <td>50596.500000</td>\n",
       "      <td>94.000000</td>\n",
       "    </tr>\n",
       "    <tr>\n",
       "      <th>75%</th>\n",
       "      <td>NaN</td>\n",
       "      <td>33.000000</td>\n",
       "      <td>NaN</td>\n",
       "      <td>16.000000</td>\n",
       "      <td>NaN</td>\n",
       "      <td>4.000000</td>\n",
       "      <td>4.000000</td>\n",
       "      <td>58668.000000</td>\n",
       "      <td>114.750000</td>\n",
       "    </tr>\n",
       "    <tr>\n",
       "      <th>max</th>\n",
       "      <td>NaN</td>\n",
       "      <td>50.000000</td>\n",
       "      <td>NaN</td>\n",
       "      <td>21.000000</td>\n",
       "      <td>NaN</td>\n",
       "      <td>7.000000</td>\n",
       "      <td>5.000000</td>\n",
       "      <td>104581.000000</td>\n",
       "      <td>360.000000</td>\n",
       "    </tr>\n",
       "  </tbody>\n",
       "</table>\n",
       "</div>"
      ],
      "text/plain": [
       "       Product         Age Gender   Education MaritalStatus       Usage  \\\n",
       "count      180  180.000000    180  180.000000           180  180.000000   \n",
       "unique       3         NaN      2         NaN             2         NaN   \n",
       "top      KP281         NaN   Male         NaN     Partnered         NaN   \n",
       "freq        80         NaN    104         NaN           107         NaN   \n",
       "mean       NaN   28.788889    NaN   15.572222           NaN    3.455556   \n",
       "std        NaN    6.943498    NaN    1.617055           NaN    1.084797   \n",
       "min        NaN   18.000000    NaN   12.000000           NaN    2.000000   \n",
       "25%        NaN   24.000000    NaN   14.000000           NaN    3.000000   \n",
       "50%        NaN   26.000000    NaN   16.000000           NaN    3.000000   \n",
       "75%        NaN   33.000000    NaN   16.000000           NaN    4.000000   \n",
       "max        NaN   50.000000    NaN   21.000000           NaN    7.000000   \n",
       "\n",
       "           Fitness         Income       Miles  \n",
       "count   180.000000     180.000000  180.000000  \n",
       "unique         NaN            NaN         NaN  \n",
       "top            NaN            NaN         NaN  \n",
       "freq           NaN            NaN         NaN  \n",
       "mean      3.311111   53719.577778  103.194444  \n",
       "std       0.958869   16506.684226   51.863605  \n",
       "min       1.000000   29562.000000   21.000000  \n",
       "25%       3.000000   44058.750000   66.000000  \n",
       "50%       3.000000   50596.500000   94.000000  \n",
       "75%       4.000000   58668.000000  114.750000  \n",
       "max       5.000000  104581.000000  360.000000  "
      ]
     },
     "execution_count": 7,
     "metadata": {},
     "output_type": "execute_result"
    }
   ],
   "source": [
    "df.describe(include='all')"
   ]
  },
  {
   "cell_type": "markdown",
   "id": "e6967033",
   "metadata": {},
   "source": [
    "Checking for the Null values in each of the feature of the dataset"
   ]
  },
  {
   "cell_type": "code",
   "execution_count": 8,
   "id": "7894f5ae",
   "metadata": {},
   "outputs": [
    {
     "data": {
      "text/plain": [
       "Index(['Product', 'Age', 'Gender', 'Education', 'MaritalStatus', 'Usage',\n",
       "       'Fitness', 'Income', 'Miles'],\n",
       "      dtype='object')"
      ]
     },
     "execution_count": 8,
     "metadata": {},
     "output_type": "execute_result"
    }
   ],
   "source": [
    "df.columns  #The Individual features of the dataset"
   ]
  },
  {
   "cell_type": "code",
   "execution_count": 9,
   "id": "9f6ec5a2",
   "metadata": {},
   "outputs": [
    {
     "name": "stdout",
     "output_type": "stream",
     "text": [
      "Product =====> 0\n",
      "Age =====> 0\n",
      "Gender =====> 0\n",
      "Education =====> 0\n",
      "MaritalStatus =====> 0\n",
      "Usage =====> 0\n",
      "Fitness =====> 0\n",
      "Income =====> 0\n",
      "Miles =====> 0\n"
     ]
    }
   ],
   "source": [
    "for cols in df.columns:\n",
    "    print(cols +' =====> '+ str(df[cols].isna().sum()))"
   ]
  },
  {
   "cell_type": "markdown",
   "id": "8238e4d1",
   "metadata": {},
   "source": [
    "This dataset do not have any features with missing values. It is clean and feasible for analysis"
   ]
  },
  {
   "cell_type": "code",
   "execution_count": 10,
   "id": "45e07ceb",
   "metadata": {},
   "outputs": [
    {
     "data": {
      "text/html": [
       "<div>\n",
       "<style scoped>\n",
       "    .dataframe tbody tr th:only-of-type {\n",
       "        vertical-align: middle;\n",
       "    }\n",
       "\n",
       "    .dataframe tbody tr th {\n",
       "        vertical-align: top;\n",
       "    }\n",
       "\n",
       "    .dataframe thead th {\n",
       "        text-align: right;\n",
       "    }\n",
       "</style>\n",
       "<table border=\"1\" class=\"dataframe\">\n",
       "  <thead>\n",
       "    <tr style=\"text-align: right;\">\n",
       "      <th></th>\n",
       "      <th>Product</th>\n",
       "      <th>Age</th>\n",
       "      <th>Gender</th>\n",
       "      <th>Education</th>\n",
       "      <th>MaritalStatus</th>\n",
       "      <th>Usage</th>\n",
       "      <th>Fitness</th>\n",
       "      <th>Income</th>\n",
       "      <th>Miles</th>\n",
       "    </tr>\n",
       "  </thead>\n",
       "  <tbody>\n",
       "    <tr>\n",
       "      <th>0</th>\n",
       "      <td>KP281</td>\n",
       "      <td>18</td>\n",
       "      <td>Male</td>\n",
       "      <td>14</td>\n",
       "      <td>Single</td>\n",
       "      <td>3</td>\n",
       "      <td>4</td>\n",
       "      <td>29562</td>\n",
       "      <td>112</td>\n",
       "    </tr>\n",
       "    <tr>\n",
       "      <th>1</th>\n",
       "      <td>KP281</td>\n",
       "      <td>19</td>\n",
       "      <td>Male</td>\n",
       "      <td>15</td>\n",
       "      <td>Single</td>\n",
       "      <td>2</td>\n",
       "      <td>3</td>\n",
       "      <td>31836</td>\n",
       "      <td>75</td>\n",
       "    </tr>\n",
       "    <tr>\n",
       "      <th>2</th>\n",
       "      <td>KP281</td>\n",
       "      <td>19</td>\n",
       "      <td>Female</td>\n",
       "      <td>14</td>\n",
       "      <td>Partnered</td>\n",
       "      <td>4</td>\n",
       "      <td>3</td>\n",
       "      <td>30699</td>\n",
       "      <td>66</td>\n",
       "    </tr>\n",
       "    <tr>\n",
       "      <th>3</th>\n",
       "      <td>KP281</td>\n",
       "      <td>19</td>\n",
       "      <td>Male</td>\n",
       "      <td>12</td>\n",
       "      <td>Single</td>\n",
       "      <td>3</td>\n",
       "      <td>3</td>\n",
       "      <td>32973</td>\n",
       "      <td>85</td>\n",
       "    </tr>\n",
       "    <tr>\n",
       "      <th>4</th>\n",
       "      <td>KP281</td>\n",
       "      <td>20</td>\n",
       "      <td>Male</td>\n",
       "      <td>13</td>\n",
       "      <td>Partnered</td>\n",
       "      <td>4</td>\n",
       "      <td>2</td>\n",
       "      <td>35247</td>\n",
       "      <td>47</td>\n",
       "    </tr>\n",
       "  </tbody>\n",
       "</table>\n",
       "</div>"
      ],
      "text/plain": [
       "  Product  Age  Gender  Education MaritalStatus  Usage  Fitness  Income  Miles\n",
       "0   KP281   18    Male         14        Single      3        4   29562    112\n",
       "1   KP281   19    Male         15        Single      2        3   31836     75\n",
       "2   KP281   19  Female         14     Partnered      4        3   30699     66\n",
       "3   KP281   19    Male         12        Single      3        3   32973     85\n",
       "4   KP281   20    Male         13     Partnered      4        2   35247     47"
      ]
     },
     "execution_count": 10,
     "metadata": {},
     "output_type": "execute_result"
    }
   ],
   "source": [
    "df.head()"
   ]
  },
  {
   "cell_type": "markdown",
   "id": "3987f684",
   "metadata": {},
   "source": [
    "Check for frequency of different data points in the different features of the dataset."
   ]
  },
  {
   "cell_type": "code",
   "execution_count": 11,
   "id": "b5763661",
   "metadata": {},
   "outputs": [
    {
     "name": "stdout",
     "output_type": "stream",
     "text": [
      "Column :: Product\n",
      "KP281    80\n",
      "KP481    60\n",
      "KP781    40\n",
      "Name: Product, dtype: int64 \n",
      "\n",
      "Column :: Age\n",
      "25    25\n",
      "23    18\n",
      "24    12\n",
      "26    12\n",
      "28     9\n",
      "35     8\n",
      "33     8\n",
      "30     7\n",
      "38     7\n",
      "21     7\n",
      "22     7\n",
      "27     7\n",
      "31     6\n",
      "34     6\n",
      "29     6\n",
      "20     5\n",
      "40     5\n",
      "32     4\n",
      "19     4\n",
      "48     2\n",
      "37     2\n",
      "45     2\n",
      "47     2\n",
      "46     1\n",
      "50     1\n",
      "18     1\n",
      "44     1\n",
      "43     1\n",
      "41     1\n",
      "39     1\n",
      "36     1\n",
      "42     1\n",
      "Name: Age, dtype: int64 \n",
      "\n",
      "Column :: Gender\n",
      "Male      104\n",
      "Female     76\n",
      "Name: Gender, dtype: int64 \n",
      "\n",
      "Column :: Education\n",
      "16    85\n",
      "14    55\n",
      "18    23\n",
      "15     5\n",
      "13     5\n",
      "12     3\n",
      "21     3\n",
      "20     1\n",
      "Name: Education, dtype: int64 \n",
      "\n",
      "Column :: MaritalStatus\n",
      "Partnered    107\n",
      "Single        73\n",
      "Name: MaritalStatus, dtype: int64 \n",
      "\n",
      "Column :: Usage\n",
      "3    69\n",
      "4    52\n",
      "2    33\n",
      "5    17\n",
      "6     7\n",
      "7     2\n",
      "Name: Usage, dtype: int64 \n",
      "\n",
      "Column :: Fitness\n",
      "3    97\n",
      "5    31\n",
      "2    26\n",
      "4    24\n",
      "1     2\n",
      "Name: Fitness, dtype: int64 \n",
      "\n",
      "Column :: Income\n",
      "45480    14\n",
      "52302     9\n",
      "46617     8\n",
      "54576     8\n",
      "53439     8\n",
      "         ..\n",
      "65220     1\n",
      "55713     1\n",
      "68220     1\n",
      "30699     1\n",
      "95508     1\n",
      "Name: Income, Length: 62, dtype: int64 \n",
      "\n",
      "Column :: Miles\n",
      "85     27\n",
      "95     12\n",
      "66     10\n",
      "75     10\n",
      "47      9\n",
      "106     9\n",
      "94      8\n",
      "113     8\n",
      "53      7\n",
      "100     7\n",
      "180     6\n",
      "200     6\n",
      "56      6\n",
      "64      6\n",
      "127     5\n",
      "160     5\n",
      "42      4\n",
      "150     4\n",
      "38      3\n",
      "74      3\n",
      "170     3\n",
      "120     3\n",
      "103     3\n",
      "132     2\n",
      "141     2\n",
      "280     1\n",
      "260     1\n",
      "300     1\n",
      "240     1\n",
      "112     1\n",
      "212     1\n",
      "80      1\n",
      "140     1\n",
      "21      1\n",
      "169     1\n",
      "188     1\n",
      "360     1\n",
      "Name: Miles, dtype: int64 \n",
      "\n"
     ]
    }
   ],
   "source": [
    "for cols in df.columns:\n",
    "    print('Column :: {}'.format(cols))\n",
    "    print(df[cols].value_counts(),'\\n')"
   ]
  },
  {
   "cell_type": "markdown",
   "id": "7e2e0625",
   "metadata": {},
   "source": [
    "Number of unique values in the features of the dataset"
   ]
  },
  {
   "cell_type": "code",
   "execution_count": 12,
   "id": "53de07ea",
   "metadata": {},
   "outputs": [
    {
     "name": "stdout",
     "output_type": "stream",
     "text": [
      "Product  ===>  3\n",
      "Age  ===>  32\n",
      "Gender  ===>  2\n",
      "Education  ===>  8\n",
      "MaritalStatus  ===>  2\n",
      "Usage  ===>  6\n",
      "Fitness  ===>  5\n",
      "Income  ===>  62\n",
      "Miles  ===>  37\n"
     ]
    }
   ],
   "source": [
    "for cols in df.columns:\n",
    "    print(cols + '  ===>  ' + str(df[cols].nunique()))"
   ]
  },
  {
   "cell_type": "markdown",
   "id": "d91d55be",
   "metadata": {},
   "source": [
    "Unique values for each of the feature"
   ]
  },
  {
   "cell_type": "code",
   "execution_count": 13,
   "id": "36f8bb17",
   "metadata": {},
   "outputs": [
    {
     "name": "stdout",
     "output_type": "stream",
     "text": [
      "Product::\n",
      "['KP281' 'KP481' 'KP781']\n",
      "\n",
      "Age::\n",
      "[18 19 20 21 22 23 24 25 26 27 28 29 30 31 32 33 34 35 36 37 38 39 40 41\n",
      " 43 44 46 47 50 45 48 42]\n",
      "\n",
      "Gender::\n",
      "['Male' 'Female']\n",
      "\n",
      "Education::\n",
      "[14 15 12 13 16 18 20 21]\n",
      "\n",
      "MaritalStatus::\n",
      "['Single' 'Partnered']\n",
      "\n",
      "Usage::\n",
      "[3 2 4 5 6 7]\n",
      "\n",
      "Fitness::\n",
      "[4 3 2 1 5]\n",
      "\n",
      "Income::\n",
      "[ 29562  31836  30699  32973  35247  37521  36384  38658  40932  34110\n",
      "  39795  42069  44343  45480  46617  48891  53439  43206  52302  51165\n",
      "  50028  54576  68220  55713  60261  67083  56850  59124  61398  57987\n",
      "  64809  47754  65220  62535  48658  54781  48556  58516  53536  61006\n",
      "  57271  52291  49801  62251  64741  70966  75946  74701  69721  83416\n",
      "  88396  90886  92131  77191  52290  85906 103336  99601  89641  95866\n",
      " 104581  95508]\n",
      "\n",
      "Miles::\n",
      "[112  75  66  85  47 141 103  94 113  38 188  56 132 169  64  53 106  95\n",
      " 212  42 127  74 170  21 120 200 140 100  80 160 180 240 150 300 280 260\n",
      " 360]\n",
      "\n"
     ]
    }
   ],
   "source": [
    "for cols in df.columns:\n",
    "    print(cols + '::')\n",
    "    print(str(df[cols].unique()) + '\\n')"
   ]
  },
  {
   "cell_type": "markdown",
   "id": "831dd9d1",
   "metadata": {},
   "source": [
    "#### Detecting the Outliers in the dataset\n",
    "\n",
    "We can detect the outliers in the numerical features of the dataset."
   ]
  },
  {
   "cell_type": "code",
   "execution_count": 14,
   "id": "89aff14e",
   "metadata": {},
   "outputs": [],
   "source": [
    "num_cols = []\n",
    "for cols in df.columns:\n",
    "    if df[cols].dtype=='int64':\n",
    "        num_cols.append(cols)"
   ]
  },
  {
   "cell_type": "code",
   "execution_count": 15,
   "id": "805bea1f",
   "metadata": {},
   "outputs": [
    {
     "data": {
      "text/plain": [
       "['Age', 'Education', 'Usage', 'Fitness', 'Income', 'Miles']"
      ]
     },
     "execution_count": 15,
     "metadata": {},
     "output_type": "execute_result"
    }
   ],
   "source": [
    "num_cols"
   ]
  },
  {
   "cell_type": "markdown",
   "id": "04c89ada",
   "metadata": {},
   "source": [
    "Age Feature"
   ]
  },
  {
   "cell_type": "code",
   "execution_count": 16,
   "id": "9cc37857",
   "metadata": {},
   "outputs": [
    {
     "data": {
      "text/plain": [
       "count    180.000000\n",
       "mean      28.788889\n",
       "std        6.943498\n",
       "min       18.000000\n",
       "25%       24.000000\n",
       "50%       26.000000\n",
       "75%       33.000000\n",
       "max       50.000000\n",
       "Name: Age, dtype: float64"
      ]
     },
     "execution_count": 16,
     "metadata": {},
     "output_type": "execute_result"
    }
   ],
   "source": [
    "df['Age'].describe()"
   ]
  },
  {
   "cell_type": "markdown",
   "id": "3c79892c",
   "metadata": {},
   "source": [
    "From the above we can see other statistical measures like 25th percentile value is 24.00 which means about 25% of the people are less than equal to the age of 24. 50th percentile value is mentioned as 26 which means about 50% of the people are of age less than or equal to 26. 75th percentile value is mentioned as 33 which means about 75% of the people are of age less than or equal to 33."
   ]
  },
  {
   "cell_type": "markdown",
   "id": "0e72e1ee",
   "metadata": {},
   "source": [
    "##### Is there any outliers present in this feature?"
   ]
  },
  {
   "cell_type": "markdown",
   "id": "6ccf2cbe",
   "metadata": {},
   "source": [
    "Initially to check this, we can compare the mean and median calculated from the feature and if both are similar then we can say that there are no outliers in the feature.\n",
    "\n",
    "If there is a significant difference between them, then we can say that there has been some influence due to the outliers."
   ]
  },
  {
   "cell_type": "code",
   "execution_count": 17,
   "id": "5c321350",
   "metadata": {},
   "outputs": [
    {
     "data": {
      "text/plain": [
       "28.788888888888888"
      ]
     },
     "execution_count": 17,
     "metadata": {},
     "output_type": "execute_result"
    }
   ],
   "source": [
    "df['Age'].mean()   #Mean of the Age feature in the dataset"
   ]
  },
  {
   "cell_type": "code",
   "execution_count": 18,
   "id": "18b5bedc",
   "metadata": {},
   "outputs": [
    {
     "data": {
      "text/plain": [
       "26.0"
      ]
     },
     "execution_count": 18,
     "metadata": {},
     "output_type": "execute_result"
    }
   ],
   "source": [
    "df['Age'].median()  #Median of the Age feature in the dataset."
   ]
  },
  {
   "cell_type": "markdown",
   "id": "a6ffc690",
   "metadata": {},
   "source": [
    "We can see there is some difference between the mean and median. Lets continue to explore the outlier age's in the feature using boxplot"
   ]
  },
  {
   "cell_type": "code",
   "execution_count": 19,
   "id": "06f23693",
   "metadata": {},
   "outputs": [
    {
     "data": {
      "text/plain": [
       "<Axes: >"
      ]
     },
     "execution_count": 19,
     "metadata": {},
     "output_type": "execute_result"
    },
    {
     "data": {
      "image/png": "[encoded data removed]",
      "text/plain": [
       "<Figure size 640x480 with 1 Axes>"
      ]
     },
     "metadata": {},
     "output_type": "display_data"
    }
   ],
   "source": [
    "sns.boxplot(df['Age'],orient='h')"
   ]
  },
  {
   "cell_type": "markdown",
   "id": "15d5dc93",
   "metadata": {},
   "source": [
    "From the plot, we can say there are 3 outliers present beyond the upper range defined in the dataset. Lets separate those data points."
   ]
  },
  {
   "cell_type": "code",
   "execution_count": 20,
   "id": "b6967bd9",
   "metadata": {},
   "outputs": [],
   "source": [
    "ap25 = np.percentile(df['Age'],25)    #It gives the 25th percentile value from the feature\n",
    "ap50 = np.percentile(df['Age'],50)    #It gives the 50th percentile value from the feature\n",
    "ap75 = np.percentile(df['Age'],75)    #It gives the 75th percentile value from the feature\n",
    "aIQR = ap75 - ap25      #This gives the Inter-Quartile range of the feature."
   ]
  },
  {
   "cell_type": "code",
   "execution_count": 21,
   "id": "6f1bf0b0",
   "metadata": {},
   "outputs": [
    {
     "name": "stdout",
     "output_type": "stream",
     "text": [
      "24.0 26.0 33.0 9.0\n"
     ]
    }
   ],
   "source": [
    "print(ap25,ap50,ap75,aIQR)"
   ]
  },
  {
   "cell_type": "markdown",
   "id": "c1686419",
   "metadata": {},
   "source": [
    "From the IQR calculated above, We can calculate the lower and upper bounds defined by the Whiskers of the boxplot"
   ]
  },
  {
   "cell_type": "code",
   "execution_count": 22,
   "id": "e7274a4b",
   "metadata": {},
   "outputs": [
    {
     "name": "stdout",
     "output_type": "stream",
     "text": [
      "10.5 46.5\n"
     ]
    }
   ],
   "source": [
    "lower = max(ap25-(1.5*aIQR),0)    #As age cannot be in negative, we are defining the lower bound as 0\n",
    "upper = ap75 + (1.5*aIQR)    #Upper bound is 1.5 times the IQR greater than the 75th percentile value.\n",
    "print(lower,upper)"
   ]
  },
  {
   "cell_type": "markdown",
   "id": "711f3928",
   "metadata": {},
   "source": [
    "Any data point beyond the lower and upper values are called as the outliers. So people with age greater than 46.5 years are outliers."
   ]
  },
  {
   "cell_type": "code",
   "execution_count": 23,
   "id": "36070498",
   "metadata": {},
   "outputs": [
    {
     "data": {
      "text/html": [
       "<div>\n",
       "<style scoped>\n",
       "    .dataframe tbody tr th:only-of-type {\n",
       "        vertical-align: middle;\n",
       "    }\n",
       "\n",
       "    .dataframe tbody tr th {\n",
       "        vertical-align: top;\n",
       "    }\n",
       "\n",
       "    .dataframe thead th {\n",
       "        text-align: right;\n",
       "    }\n",
       "</style>\n",
       "<table border=\"1\" class=\"dataframe\">\n",
       "  <thead>\n",
       "    <tr style=\"text-align: right;\">\n",
       "      <th></th>\n",
       "      <th>Product</th>\n",
       "      <th>Age</th>\n",
       "      <th>Gender</th>\n",
       "      <th>Education</th>\n",
       "      <th>MaritalStatus</th>\n",
       "      <th>Usage</th>\n",
       "      <th>Fitness</th>\n",
       "      <th>Income</th>\n",
       "      <th>Miles</th>\n",
       "    </tr>\n",
       "  </thead>\n",
       "  <tbody>\n",
       "    <tr>\n",
       "      <th>78</th>\n",
       "      <td>KP281</td>\n",
       "      <td>47</td>\n",
       "      <td>Male</td>\n",
       "      <td>16</td>\n",
       "      <td>Partnered</td>\n",
       "      <td>4</td>\n",
       "      <td>3</td>\n",
       "      <td>56850</td>\n",
       "      <td>94</td>\n",
       "    </tr>\n",
       "    <tr>\n",
       "      <th>79</th>\n",
       "      <td>KP281</td>\n",
       "      <td>50</td>\n",
       "      <td>Female</td>\n",
       "      <td>16</td>\n",
       "      <td>Partnered</td>\n",
       "      <td>3</td>\n",
       "      <td>3</td>\n",
       "      <td>64809</td>\n",
       "      <td>66</td>\n",
       "    </tr>\n",
       "    <tr>\n",
       "      <th>139</th>\n",
       "      <td>KP481</td>\n",
       "      <td>48</td>\n",
       "      <td>Male</td>\n",
       "      <td>16</td>\n",
       "      <td>Partnered</td>\n",
       "      <td>2</td>\n",
       "      <td>3</td>\n",
       "      <td>57987</td>\n",
       "      <td>64</td>\n",
       "    </tr>\n",
       "    <tr>\n",
       "      <th>178</th>\n",
       "      <td>KP781</td>\n",
       "      <td>47</td>\n",
       "      <td>Male</td>\n",
       "      <td>18</td>\n",
       "      <td>Partnered</td>\n",
       "      <td>4</td>\n",
       "      <td>5</td>\n",
       "      <td>104581</td>\n",
       "      <td>120</td>\n",
       "    </tr>\n",
       "    <tr>\n",
       "      <th>179</th>\n",
       "      <td>KP781</td>\n",
       "      <td>48</td>\n",
       "      <td>Male</td>\n",
       "      <td>18</td>\n",
       "      <td>Partnered</td>\n",
       "      <td>4</td>\n",
       "      <td>5</td>\n",
       "      <td>95508</td>\n",
       "      <td>180</td>\n",
       "    </tr>\n",
       "  </tbody>\n",
       "</table>\n",
       "</div>"
      ],
      "text/plain": [
       "    Product  Age  Gender  Education MaritalStatus  Usage  Fitness  Income  \\\n",
       "78    KP281   47    Male         16     Partnered      4        3   56850   \n",
       "79    KP281   50  Female         16     Partnered      3        3   64809   \n",
       "139   KP481   48    Male         16     Partnered      2        3   57987   \n",
       "178   KP781   47    Male         18     Partnered      4        5  104581   \n",
       "179   KP781   48    Male         18     Partnered      4        5   95508   \n",
       "\n",
       "     Miles  \n",
       "78      94  \n",
       "79      66  \n",
       "139     64  \n",
       "178    120  \n",
       "179    180  "
      ]
     },
     "execution_count": 23,
     "metadata": {},
     "output_type": "execute_result"
    }
   ],
   "source": [
    "df.loc[df['Age']>upper]"
   ]
  },
  {
   "cell_type": "markdown",
   "id": "8c30cec2",
   "metadata": {},
   "source": [
    "These are the 5 members who are of age greater than 46.5"
   ]
  },
  {
   "cell_type": "markdown",
   "id": "b87ef5bb",
   "metadata": {},
   "source": [
    "Similarly we can find the outliers of all the numerical features in the dataset"
   ]
  },
  {
   "cell_type": "code",
   "execution_count": 24,
   "id": "dea5cafb",
   "metadata": {},
   "outputs": [
    {
     "name": "stdout",
     "output_type": "stream",
     "text": [
      "Education ====> Mean is 15.572222222222223 and Median is 16.0\n",
      "Usage ====> Mean is 3.4555555555555557 and Median is 3.0\n",
      "Fitness ====> Mean is 3.311111111111111 and Median is 3.0\n",
      "Income ====> Mean is 53719.57777777778 and Median is 50596.5\n",
      "Miles ====> Mean is 103.19444444444444 and Median is 94.0\n"
     ]
    }
   ],
   "source": [
    "for cols in num_cols:\n",
    "    if cols=='Age':\n",
    "        pass\n",
    "    else:\n",
    "        print(cols + ' ====> ' + 'Mean is {} and Median is {}'.format(df[cols].mean(),df[cols].median()))"
   ]
  },
  {
   "cell_type": "markdown",
   "id": "5b7187a0",
   "metadata": {},
   "source": [
    "There are some outliers in each of the feature in the dataset. We can find them in the boxplots below"
   ]
  },
  {
   "cell_type": "code",
   "execution_count": 25,
   "id": "4e9a5cd7",
   "metadata": {},
   "outputs": [
    {
     "data": {
      "image/png": "[encoded data removed]",
      "text/plain": [
       "<Figure size 640x480 with 1 Axes>"
      ]
     },
     "metadata": {},
     "output_type": "display_data"
    },
    {
     "data": {
      "image/png": "[encoded data removed]",
      "text/plain": [
       "<Figure size 640x480 with 1 Axes>"
      ]
     },
     "metadata": {},
     "output_type": "display_data"
    },
    {
     "data": {
      "image/png": "[encoded data removed]",
      "text/plain": [
       "<Figure size 640x480 with 1 Axes>"
      ]
     },
     "metadata": {},
     "output_type": "display_data"
    },
    {
     "data": {
      "image/png": "[encoded data removed]",
      "text/plain": [
       "<Figure size 640x480 with 1 Axes>"
      ]
     },
     "metadata": {},
     "output_type": "display_data"
    },
    {
     "data": {
      "image/png": "[encoded data removed]",
      "text/plain": [
       "<Figure size 640x480 with 1 Axes>"
      ]
     },
     "metadata": {},
     "output_type": "display_data"
    }
   ],
   "source": [
    "for cols in num_cols:\n",
    "    if cols == 'Age':\n",
    "        pass\n",
    "    else:\n",
    "        plt.figure()\n",
    "        plt.title('Boxplot to detect outlier for {} feature'.format(cols))\n",
    "        sns.boxplot(data=df[cols],orient='h')\n",
    "        plt.show()"
   ]
  },
  {
   "cell_type": "code",
   "execution_count": 26,
   "id": "0e19d767",
   "metadata": {},
   "outputs": [],
   "source": [
    "def findOutliers(cols):\n",
    "    pe25 = df[cols].quantile(0.25)\n",
    "    pe50 = df[cols].quantile(0.5)\n",
    "    pe75 = df[cols].quantile(0.75)\n",
    "    IQR = pe75 - pe25\n",
    "    lower = max(0,pe25 - (1.5*IQR))\n",
    "    upper = pe75 + (1.5*IQR)\n",
    "    outliers = df.loc[(df[cols] > upper) | (df[cols] < lower)][cols].unique()\n",
    "    return list(outliers)"
   ]
  },
  {
   "cell_type": "code",
   "execution_count": 27,
   "id": "3afbdc5d",
   "metadata": {},
   "outputs": [],
   "source": [
    "outlier_vals = {}\n",
    "for col in num_cols:\n",
    "    outlier_vals[col] = findOutliers(col)"
   ]
  },
  {
   "cell_type": "code",
   "execution_count": 28,
   "id": "7dd57a29",
   "metadata": {},
   "outputs": [
    {
     "data": {
      "text/plain": [
       "{'Age': [47, 50, 48],\n",
       " 'Education': [20, 21],\n",
       " 'Usage': [6, 7],\n",
       " 'Fitness': [1],\n",
       " 'Income': [83416,\n",
       "  88396,\n",
       "  90886,\n",
       "  92131,\n",
       "  85906,\n",
       "  103336,\n",
       "  99601,\n",
       "  89641,\n",
       "  95866,\n",
       "  104581,\n",
       "  95508],\n",
       " 'Miles': [188, 212, 200, 240, 300, 280, 260, 360]}"
      ]
     },
     "execution_count": 28,
     "metadata": {},
     "output_type": "execute_result"
    }
   ],
   "source": [
    "outlier_vals"
   ]
  },
  {
   "cell_type": "markdown",
   "id": "2ea98c99",
   "metadata": {},
   "source": [
    "From the above we can see the unique outlier values of each of the feature in the dataset"
   ]
  },
  {
   "cell_type": "markdown",
   "id": "1b76352a",
   "metadata": {},
   "source": [
    "##### Percentage of Outlier values in the features of the dataset."
   ]
  },
  {
   "cell_type": "code",
   "execution_count": 29,
   "id": "b50a0d71",
   "metadata": {},
   "outputs": [],
   "source": [
    "def findPercent(cols):\n",
    "    outlen = len(df.loc[df[cols].isin(outlier_vals[cols])])\n",
    "    return (outlen/(len(df)))*100"
   ]
  },
  {
   "cell_type": "code",
   "execution_count": 30,
   "id": "8e5caf2c",
   "metadata": {},
   "outputs": [],
   "source": [
    "outlier_percent = {}\n",
    "for cols in num_cols:\n",
    "    outlier_percent[cols] = findPercent(cols)"
   ]
  },
  {
   "cell_type": "code",
   "execution_count": 31,
   "id": "a35b5015",
   "metadata": {},
   "outputs": [
    {
     "data": {
      "text/plain": [
       "{'Age': 2.7777777777777777,\n",
       " 'Education': 2.2222222222222223,\n",
       " 'Usage': 5.0,\n",
       " 'Fitness': 1.1111111111111112,\n",
       " 'Income': 10.555555555555555,\n",
       " 'Miles': 7.222222222222221}"
      ]
     },
     "execution_count": 31,
     "metadata": {},
     "output_type": "execute_result"
    }
   ],
   "source": [
    "outlier_percent"
   ]
  },
  {
   "cell_type": "markdown",
   "id": "b5ef020d",
   "metadata": {},
   "source": [
    "So from above we can see the percentage of outliers present in each of the features in the dataset.\n"
   ]
  },
  {
   "cell_type": "markdown",
   "id": "d5f7e209",
   "metadata": {},
   "source": [
    "#### Influence of the features on product purchased."
   ]
  },
  {
   "cell_type": "code",
   "execution_count": 32,
   "id": "ba5bab72",
   "metadata": {},
   "outputs": [
    {
     "data": {
      "text/html": [
       "<div>\n",
       "<style scoped>\n",
       "    .dataframe tbody tr th:only-of-type {\n",
       "        vertical-align: middle;\n",
       "    }\n",
       "\n",
       "    .dataframe tbody tr th {\n",
       "        vertical-align: top;\n",
       "    }\n",
       "\n",
       "    .dataframe thead th {\n",
       "        text-align: right;\n",
       "    }\n",
       "</style>\n",
       "<table border=\"1\" class=\"dataframe\">\n",
       "  <thead>\n",
       "    <tr style=\"text-align: right;\">\n",
       "      <th></th>\n",
       "      <th>Product</th>\n",
       "      <th>Age</th>\n",
       "      <th>Gender</th>\n",
       "      <th>Education</th>\n",
       "      <th>MaritalStatus</th>\n",
       "      <th>Usage</th>\n",
       "      <th>Fitness</th>\n",
       "      <th>Income</th>\n",
       "      <th>Miles</th>\n",
       "    </tr>\n",
       "  </thead>\n",
       "  <tbody>\n",
       "    <tr>\n",
       "      <th>0</th>\n",
       "      <td>KP281</td>\n",
       "      <td>18</td>\n",
       "      <td>Male</td>\n",
       "      <td>14</td>\n",
       "      <td>Single</td>\n",
       "      <td>3</td>\n",
       "      <td>4</td>\n",
       "      <td>29562</td>\n",
       "      <td>112</td>\n",
       "    </tr>\n",
       "    <tr>\n",
       "      <th>1</th>\n",
       "      <td>KP281</td>\n",
       "      <td>19</td>\n",
       "      <td>Male</td>\n",
       "      <td>15</td>\n",
       "      <td>Single</td>\n",
       "      <td>2</td>\n",
       "      <td>3</td>\n",
       "      <td>31836</td>\n",
       "      <td>75</td>\n",
       "    </tr>\n",
       "    <tr>\n",
       "      <th>2</th>\n",
       "      <td>KP281</td>\n",
       "      <td>19</td>\n",
       "      <td>Female</td>\n",
       "      <td>14</td>\n",
       "      <td>Partnered</td>\n",
       "      <td>4</td>\n",
       "      <td>3</td>\n",
       "      <td>30699</td>\n",
       "      <td>66</td>\n",
       "    </tr>\n",
       "    <tr>\n",
       "      <th>3</th>\n",
       "      <td>KP281</td>\n",
       "      <td>19</td>\n",
       "      <td>Male</td>\n",
       "      <td>12</td>\n",
       "      <td>Single</td>\n",
       "      <td>3</td>\n",
       "      <td>3</td>\n",
       "      <td>32973</td>\n",
       "      <td>85</td>\n",
       "    </tr>\n",
       "    <tr>\n",
       "      <th>4</th>\n",
       "      <td>KP281</td>\n",
       "      <td>20</td>\n",
       "      <td>Male</td>\n",
       "      <td>13</td>\n",
       "      <td>Partnered</td>\n",
       "      <td>4</td>\n",
       "      <td>2</td>\n",
       "      <td>35247</td>\n",
       "      <td>47</td>\n",
       "    </tr>\n",
       "  </tbody>\n",
       "</table>\n",
       "</div>"
      ],
      "text/plain": [
       "  Product  Age  Gender  Education MaritalStatus  Usage  Fitness  Income  Miles\n",
       "0   KP281   18    Male         14        Single      3        4   29562    112\n",
       "1   KP281   19    Male         15        Single      2        3   31836     75\n",
       "2   KP281   19  Female         14     Partnered      4        3   30699     66\n",
       "3   KP281   19    Male         12        Single      3        3   32973     85\n",
       "4   KP281   20    Male         13     Partnered      4        2   35247     47"
      ]
     },
     "execution_count": 32,
     "metadata": {},
     "output_type": "execute_result"
    }
   ],
   "source": [
    "df.head()"
   ]
  },
  {
   "cell_type": "markdown",
   "id": "8c80d09c",
   "metadata": {},
   "source": [
    "###### Influence of Marital status on the product"
   ]
  },
  {
   "cell_type": "code",
   "execution_count": 33,
   "id": "150e2c31",
   "metadata": {},
   "outputs": [
    {
     "data": {
      "text/plain": [
       "<Axes: xlabel='Product', ylabel='count'>"
      ]
     },
     "execution_count": 33,
     "metadata": {},
     "output_type": "execute_result"
    },
    {
     "data": {
      "image/png": "[encoded data removed]",
      "text/plain": [
       "<Figure size 640x480 with 1 Axes>"
      ]
     },
     "metadata": {},
     "output_type": "display_data"
    }
   ],
   "source": [
    "sns.countplot(data = df,x='Product',hue='MaritalStatus')"
   ]
  },
  {
   "cell_type": "markdown",
   "id": "395b81bc",
   "metadata": {},
   "source": [
    "When it comes to single people, from the above plot we can see that most of the members have bought **KP281** product and the same goes with the Married people also.\n",
    "\n",
    "In both categories of people, it can be seen that **KP281** is the most bought product.\n",
    "\n",
    "Compared to people who are single, Married people show some extra interest towards the Aerofit's product."
   ]
  },
  {
   "cell_type": "markdown",
   "id": "c40fc9d8",
   "metadata": {},
   "source": [
    "##### Influence of Age on the Product bought"
   ]
  },
  {
   "cell_type": "code",
   "execution_count": 34,
   "id": "deb8a6fd",
   "metadata": {},
   "outputs": [
    {
     "data": {
      "text/plain": [
       "<Axes: xlabel='Product', ylabel='Age'>"
      ]
     },
     "execution_count": 34,
     "metadata": {},
     "output_type": "execute_result"
    },
    {
     "data": {
      "image/png": "[encoded data removed]",
      "text/plain": [
       "<Figure size 640x480 with 1 Axes>"
      ]
     },
     "metadata": {},
     "output_type": "display_data"
    }
   ],
   "source": [
    "sns.boxplot(data=df,x='Product',y='Age',orient='v')"
   ]
  },
  {
   "cell_type": "markdown",
   "id": "ca0b1711",
   "metadata": {},
   "source": [
    "It can be clearly seen from the above plot that the median age of the people who bought KP281 and KP481 lies around 27 and the median of the age of people who have bought KP781 is 28. The range of people who have bought KP281 is more compared to other 2 products."
   ]
  },
  {
   "cell_type": "markdown",
   "id": "e2427f7d",
   "metadata": {},
   "source": [
    "##### Influence of Age and Gender on the Product Bought"
   ]
  },
  {
   "cell_type": "code",
   "execution_count": 35,
   "id": "9572c720",
   "metadata": {},
   "outputs": [
    {
     "data": {
      "text/plain": [
       "<Axes: xlabel='Product', ylabel='Age'>"
      ]
     },
     "execution_count": 35,
     "metadata": {},
     "output_type": "execute_result"
    },
    {
     "data": {
      "image/png": "[encoded data removed]",
      "text/plain": [
       "<Figure size 640x480 with 1 Axes>"
      ]
     },
     "metadata": {},
     "output_type": "display_data"
    }
   ],
   "source": [
    "sns.boxplot(data=df,x='Product',y='Age',hue='Gender')"
   ]
  },
  {
   "cell_type": "markdown",
   "id": "e8661dba",
   "metadata": {},
   "source": [
    "The median age of Male who bought KP281 is about 26 years whereas the median age of a women who bought KP281 is slightly greater than that of males by the value of 0.5.\n",
    "\n",
    "The median age of women who bought KP481 is significantly higher than that of the median age of men who bought KP481.\n",
    "\n",
    "The median age of women who bought KP481 is around 30 years and is higher than that of the median age of women who have bought KP281 and KP781."
   ]
  },
  {
   "cell_type": "markdown",
   "id": "3e5283d3",
   "metadata": {},
   "source": [
    "##### Influence of Marital status"
   ]
  },
  {
   "cell_type": "code",
   "execution_count": 36,
   "id": "c756c20d",
   "metadata": {
    "scrolled": false
   },
   "outputs": [
    {
     "data": {
      "text/plain": [
       "<matplotlib.legend.Legend at 0x2283d1b3340>"
      ]
     },
     "execution_count": 36,
     "metadata": {},
     "output_type": "execute_result"
    },
    {
     "data": {
      "image/png": "[encoded data removed]",
      "text/plain": [
       "<Figure size 640x480 with 1 Axes>"
      ]
     },
     "metadata": {},
     "output_type": "display_data"
    }
   ],
   "source": [
    "sns.boxplot(data=df,x='Product',y='Age',hue='MaritalStatus')\n",
    "plt.legend(loc='upper center')"
   ]
  },
  {
   "cell_type": "markdown",
   "id": "b8118063",
   "metadata": {},
   "source": [
    "The number of married people who bought the products KP281 and KP481 is higher than that of single people who bought them. "
   ]
  },
  {
   "cell_type": "markdown",
   "id": "6f220849",
   "metadata": {},
   "source": [
    "##### Influence of  Miles covered per each week"
   ]
  },
  {
   "cell_type": "code",
   "execution_count": 37,
   "id": "017885bf",
   "metadata": {},
   "outputs": [
    {
     "data": {
      "text/plain": [
       "<Axes: xlabel='Product', ylabel='Miles'>"
      ]
     },
     "execution_count": 37,
     "metadata": {},
     "output_type": "execute_result"
    },
    {
     "data": {
      "image/png": "[encoded data removed]",
      "text/plain": [
       "<Figure size 640x480 with 1 Axes>"
      ]
     },
     "metadata": {},
     "output_type": "display_data"
    }
   ],
   "source": [
    "sns.boxplot(data=df,x='Product',y='Miles')"
   ]
  },
  {
   "cell_type": "markdown",
   "id": "e885277c",
   "metadata": {},
   "source": [
    "From the above boxplot, \n",
    "1. we can see that the Median of the **Miles** covered by using **KP281** is about 90.\n",
    "2. The Median of the **Miles** covered by using **KP481** is also about 90.\n",
    "3. The Median od the **Miles** covered by using **KP781** is around 170 miles.\n",
    "\n",
    "Thus people who generally walk more (ie: more than 120 miles) tends to use KP781 product over the other products."
   ]
  },
  {
   "cell_type": "markdown",
   "id": "7fd3481e",
   "metadata": {},
   "source": [
    "##### Influence of  Education"
   ]
  },
  {
   "cell_type": "code",
   "execution_count": 38,
   "id": "a72e5e42",
   "metadata": {},
   "outputs": [
    {
     "data": {
      "text/plain": [
       "<Axes: xlabel='Product', ylabel='Education'>"
      ]
     },
     "execution_count": 38,
     "metadata": {},
     "output_type": "execute_result"
    },
    {
     "data": {
      "image/png": "[encoded data removed]",
      "text/plain": [
       "<Figure size 640x480 with 1 Axes>"
      ]
     },
     "metadata": {},
     "output_type": "display_data"
    }
   ],
   "source": [
    "sns.boxplot(data=df,x='Product',y='Education')"
   ]
  },
  {
   "cell_type": "markdown",
   "id": "83b360b7",
   "metadata": {},
   "source": [
    "From the above plot, we can see that the people who tend to have higher education qualification (ie: People who have the average years of education between 14 and 21) buy **KP781** product.\n",
    "\n",
    "People who have an average years of education between 12 to 18 years, tend to buy either **KP281** or **KP481**."
   ]
  },
  {
   "cell_type": "markdown",
   "id": "1c10be61",
   "metadata": {},
   "source": [
    "##### Influence of Usage"
   ]
  },
  {
   "cell_type": "code",
   "execution_count": 39,
   "id": "b53c8519",
   "metadata": {},
   "outputs": [
    {
     "data": {
      "text/plain": [
       "<Axes: xlabel='Product', ylabel='Usage'>"
      ]
     },
     "execution_count": 39,
     "metadata": {},
     "output_type": "execute_result"
    },
    {
     "data": {
      "image/png": "[encoded data removed]",
      "text/plain": [
       "<Figure size 640x480 with 1 Axes>"
      ]
     },
     "metadata": {},
     "output_type": "display_data"
    }
   ],
   "source": [
    "sns.boxplot(data=df,x='Product',y='Usage')"
   ]
  },
  {
   "cell_type": "markdown",
   "id": "4b0de671",
   "metadata": {},
   "source": [
    "From the above we can infer that most of the people who have bought **KP281** uses it 3 to 4 times in a week. People who have bought **KP481** uses it 3 times in a week. Whereas, people who have bought **KP781** uses it 4 to 5 times in a week."
   ]
  },
  {
   "cell_type": "markdown",
   "id": "eb662e9c",
   "metadata": {},
   "source": [
    "##### Fitness and Product"
   ]
  },
  {
   "cell_type": "code",
   "execution_count": 40,
   "id": "922cb178",
   "metadata": {},
   "outputs": [
    {
     "data": {
      "text/html": [
       "<div>\n",
       "<style scoped>\n",
       "    .dataframe tbody tr th:only-of-type {\n",
       "        vertical-align: middle;\n",
       "    }\n",
       "\n",
       "    .dataframe tbody tr th {\n",
       "        vertical-align: top;\n",
       "    }\n",
       "\n",
       "    .dataframe thead th {\n",
       "        text-align: right;\n",
       "    }\n",
       "</style>\n",
       "<table border=\"1\" class=\"dataframe\">\n",
       "  <thead>\n",
       "    <tr style=\"text-align: right;\">\n",
       "      <th></th>\n",
       "      <th>Product</th>\n",
       "      <th>Age</th>\n",
       "      <th>Gender</th>\n",
       "      <th>Education</th>\n",
       "      <th>MaritalStatus</th>\n",
       "      <th>Usage</th>\n",
       "      <th>Fitness</th>\n",
       "      <th>Income</th>\n",
       "      <th>Miles</th>\n",
       "    </tr>\n",
       "  </thead>\n",
       "  <tbody>\n",
       "    <tr>\n",
       "      <th>0</th>\n",
       "      <td>KP281</td>\n",
       "      <td>18</td>\n",
       "      <td>Male</td>\n",
       "      <td>14</td>\n",
       "      <td>Single</td>\n",
       "      <td>3</td>\n",
       "      <td>4</td>\n",
       "      <td>29562</td>\n",
       "      <td>112</td>\n",
       "    </tr>\n",
       "    <tr>\n",
       "      <th>1</th>\n",
       "      <td>KP281</td>\n",
       "      <td>19</td>\n",
       "      <td>Male</td>\n",
       "      <td>15</td>\n",
       "      <td>Single</td>\n",
       "      <td>2</td>\n",
       "      <td>3</td>\n",
       "      <td>31836</td>\n",
       "      <td>75</td>\n",
       "    </tr>\n",
       "    <tr>\n",
       "      <th>2</th>\n",
       "      <td>KP281</td>\n",
       "      <td>19</td>\n",
       "      <td>Female</td>\n",
       "      <td>14</td>\n",
       "      <td>Partnered</td>\n",
       "      <td>4</td>\n",
       "      <td>3</td>\n",
       "      <td>30699</td>\n",
       "      <td>66</td>\n",
       "    </tr>\n",
       "    <tr>\n",
       "      <th>3</th>\n",
       "      <td>KP281</td>\n",
       "      <td>19</td>\n",
       "      <td>Male</td>\n",
       "      <td>12</td>\n",
       "      <td>Single</td>\n",
       "      <td>3</td>\n",
       "      <td>3</td>\n",
       "      <td>32973</td>\n",
       "      <td>85</td>\n",
       "    </tr>\n",
       "    <tr>\n",
       "      <th>4</th>\n",
       "      <td>KP281</td>\n",
       "      <td>20</td>\n",
       "      <td>Male</td>\n",
       "      <td>13</td>\n",
       "      <td>Partnered</td>\n",
       "      <td>4</td>\n",
       "      <td>2</td>\n",
       "      <td>35247</td>\n",
       "      <td>47</td>\n",
       "    </tr>\n",
       "  </tbody>\n",
       "</table>\n",
       "</div>"
      ],
      "text/plain": [
       "  Product  Age  Gender  Education MaritalStatus  Usage  Fitness  Income  Miles\n",
       "0   KP281   18    Male         14        Single      3        4   29562    112\n",
       "1   KP281   19    Male         15        Single      2        3   31836     75\n",
       "2   KP281   19  Female         14     Partnered      4        3   30699     66\n",
       "3   KP281   19    Male         12        Single      3        3   32973     85\n",
       "4   KP281   20    Male         13     Partnered      4        2   35247     47"
      ]
     },
     "execution_count": 40,
     "metadata": {},
     "output_type": "execute_result"
    }
   ],
   "source": [
    "df.head()"
   ]
  },
  {
   "cell_type": "code",
   "execution_count": 41,
   "id": "1f015070",
   "metadata": {},
   "outputs": [
    {
     "data": {
      "text/plain": [
       "<Axes: xlabel='Fitness', ylabel='count'>"
      ]
     },
     "execution_count": 41,
     "metadata": {},
     "output_type": "execute_result"
    },
    {
     "data": {
      "image/png": "[encoded data removed]",
      "text/plain": [
       "<Figure size 640x480 with 1 Axes>"
      ]
     },
     "metadata": {},
     "output_type": "display_data"
    }
   ],
   "source": [
    "sns.countplot(data=df,x='Fitness',hue='Product')"
   ]
  },
  {
   "cell_type": "markdown",
   "id": "1ba30712",
   "metadata": {},
   "source": [
    "From the countplot above we can infer that the most number of people who are extremely fit (say fitness level is 5) uses **KP781** type Treadmill.\n",
    "\n",
    "Majority of the people who are averagely fit (say fitness level as 3) uses **KP281** type of Treadmill."
   ]
  },
  {
   "cell_type": "markdown",
   "id": "6d1906be",
   "metadata": {},
   "source": [
    "##### Distribution of Salary/ Income"
   ]
  },
  {
   "cell_type": "code",
   "execution_count": 42,
   "id": "faa10f2f",
   "metadata": {},
   "outputs": [
    {
     "data": {
      "text/plain": [
       "<Axes: xlabel='Income', ylabel='Count'>"
      ]
     },
     "execution_count": 42,
     "metadata": {},
     "output_type": "execute_result"
    },
    {
     "data": {
      "image/png": "[encoded data removed]",
      "text/plain": [
       "<Figure size 640x480 with 1 Axes>"
      ]
     },
     "metadata": {},
     "output_type": "display_data"
    }
   ],
   "source": [
    "sns.histplot(df['Income'],bins=40,kde=True)"
   ]
  },
  {
   "cell_type": "code",
   "execution_count": 43,
   "id": "c1a64b3c",
   "metadata": {},
   "outputs": [
    {
     "data": {
      "text/plain": [
       "<Axes: >"
      ]
     },
     "execution_count": 43,
     "metadata": {},
     "output_type": "execute_result"
    },
    {
     "data": {
      "image/png": "[encoded data removed]",
      "text/plain": [
       "<Figure size 640x480 with 1 Axes>"
      ]
     },
     "metadata": {},
     "output_type": "display_data"
    }
   ],
   "source": [
    "sns.boxplot(df['Income'],orient='h')"
   ]
  },
  {
   "cell_type": "markdown",
   "id": "c2fa6355",
   "metadata": {},
   "source": [
    "The Median Salary/ Income is about 50000 dollars and there are some outliers in the data with the income value greater than 78000 dollars."
   ]
  },
  {
   "cell_type": "code",
   "execution_count": 44,
   "id": "6fcf1fb4",
   "metadata": {},
   "outputs": [
    {
     "name": "stdout",
     "output_type": "stream",
     "text": [
      "29562 104581\n"
     ]
    }
   ],
   "source": [
    "print(df['Income'].min(),df['Income'].max())"
   ]
  },
  {
   "cell_type": "markdown",
   "id": "54db2aa8",
   "metadata": {},
   "source": [
    "So, let us partition the Income data into 3 different categories namely **Low Pay**, **Normal Pay** and **High Pay**.\n",
    "\n",
    "Lets consider **30,000 to 50,000** dollars as Low pay, **50,000 to 70,000** dollars as Normal pay and anything higher than **70000** dollars as high pay."
   ]
  },
  {
   "cell_type": "code",
   "execution_count": 45,
   "id": "582416b0",
   "metadata": {},
   "outputs": [],
   "source": [
    "df2=df.copy()"
   ]
  },
  {
   "cell_type": "code",
   "execution_count": 46,
   "id": "e85ac9c5",
   "metadata": {},
   "outputs": [],
   "source": [
    "#we can use pd.cut() to do this operation.\n",
    "labels = ['Low Pay','Normal Pay','High Pay']\n",
    "categs = [df['Income'].min()-1,50000,70000,df['Income'].max()+1]\n",
    "df['PayType'] = pd.cut(df['Income'],bins=categs,labels=labels)"
   ]
  },
  {
   "cell_type": "code",
   "execution_count": 47,
   "id": "6f71b139",
   "metadata": {},
   "outputs": [
    {
     "data": {
      "text/html": [
       "<div>\n",
       "<style scoped>\n",
       "    .dataframe tbody tr th:only-of-type {\n",
       "        vertical-align: middle;\n",
       "    }\n",
       "\n",
       "    .dataframe tbody tr th {\n",
       "        vertical-align: top;\n",
       "    }\n",
       "\n",
       "    .dataframe thead th {\n",
       "        text-align: right;\n",
       "    }\n",
       "</style>\n",
       "<table border=\"1\" class=\"dataframe\">\n",
       "  <thead>\n",
       "    <tr style=\"text-align: right;\">\n",
       "      <th></th>\n",
       "      <th>Product</th>\n",
       "      <th>Age</th>\n",
       "      <th>Gender</th>\n",
       "      <th>Education</th>\n",
       "      <th>MaritalStatus</th>\n",
       "      <th>Usage</th>\n",
       "      <th>Fitness</th>\n",
       "      <th>Income</th>\n",
       "      <th>Miles</th>\n",
       "      <th>PayType</th>\n",
       "    </tr>\n",
       "  </thead>\n",
       "  <tbody>\n",
       "    <tr>\n",
       "      <th>0</th>\n",
       "      <td>KP281</td>\n",
       "      <td>18</td>\n",
       "      <td>Male</td>\n",
       "      <td>14</td>\n",
       "      <td>Single</td>\n",
       "      <td>3</td>\n",
       "      <td>4</td>\n",
       "      <td>29562</td>\n",
       "      <td>112</td>\n",
       "      <td>Low Pay</td>\n",
       "    </tr>\n",
       "    <tr>\n",
       "      <th>1</th>\n",
       "      <td>KP281</td>\n",
       "      <td>19</td>\n",
       "      <td>Male</td>\n",
       "      <td>15</td>\n",
       "      <td>Single</td>\n",
       "      <td>2</td>\n",
       "      <td>3</td>\n",
       "      <td>31836</td>\n",
       "      <td>75</td>\n",
       "      <td>Low Pay</td>\n",
       "    </tr>\n",
       "    <tr>\n",
       "      <th>2</th>\n",
       "      <td>KP281</td>\n",
       "      <td>19</td>\n",
       "      <td>Female</td>\n",
       "      <td>14</td>\n",
       "      <td>Partnered</td>\n",
       "      <td>4</td>\n",
       "      <td>3</td>\n",
       "      <td>30699</td>\n",
       "      <td>66</td>\n",
       "      <td>Low Pay</td>\n",
       "    </tr>\n",
       "    <tr>\n",
       "      <th>3</th>\n",
       "      <td>KP281</td>\n",
       "      <td>19</td>\n",
       "      <td>Male</td>\n",
       "      <td>12</td>\n",
       "      <td>Single</td>\n",
       "      <td>3</td>\n",
       "      <td>3</td>\n",
       "      <td>32973</td>\n",
       "      <td>85</td>\n",
       "      <td>Low Pay</td>\n",
       "    </tr>\n",
       "    <tr>\n",
       "      <th>4</th>\n",
       "      <td>KP281</td>\n",
       "      <td>20</td>\n",
       "      <td>Male</td>\n",
       "      <td>13</td>\n",
       "      <td>Partnered</td>\n",
       "      <td>4</td>\n",
       "      <td>2</td>\n",
       "      <td>35247</td>\n",
       "      <td>47</td>\n",
       "      <td>Low Pay</td>\n",
       "    </tr>\n",
       "  </tbody>\n",
       "</table>\n",
       "</div>"
      ],
      "text/plain": [
       "  Product  Age  Gender  Education MaritalStatus  Usage  Fitness  Income  \\\n",
       "0   KP281   18    Male         14        Single      3        4   29562   \n",
       "1   KP281   19    Male         15        Single      2        3   31836   \n",
       "2   KP281   19  Female         14     Partnered      4        3   30699   \n",
       "3   KP281   19    Male         12        Single      3        3   32973   \n",
       "4   KP281   20    Male         13     Partnered      4        2   35247   \n",
       "\n",
       "   Miles  PayType  \n",
       "0    112  Low Pay  \n",
       "1     75  Low Pay  \n",
       "2     66  Low Pay  \n",
       "3     85  Low Pay  \n",
       "4     47  Low Pay  "
      ]
     },
     "execution_count": 47,
     "metadata": {},
     "output_type": "execute_result"
    }
   ],
   "source": [
    "df.head()"
   ]
  },
  {
   "cell_type": "markdown",
   "id": "4f20c55d",
   "metadata": {},
   "source": [
    "Lets see the impact of this PayType on the sales of these 3 products"
   ]
  },
  {
   "cell_type": "code",
   "execution_count": 48,
   "id": "b7711571",
   "metadata": {},
   "outputs": [
    {
     "data": {
      "image/png": "[encoded data removed]",
      "text/plain": [
       "<Figure size 1000x800 with 1 Axes>"
      ]
     },
     "metadata": {},
     "output_type": "display_data"
    }
   ],
   "source": [
    "plt.figure(figsize = (10,8))\n",
    "sns.boxplot(data=df,x='Product',y='Age',hue='PayType')\n",
    "plt.show()"
   ]
  },
  {
   "cell_type": "markdown",
   "id": "c78ec46a",
   "metadata": {},
   "source": [
    "From the above boxplot we can clearly say that product **KP781** is preferred most by the people who are in the category of High Pay.\n",
    "ie: Their income is greater than or equal to 70000 dollars. The median of age of people in that category is around 30."
   ]
  },
  {
   "cell_type": "markdown",
   "id": "1fe51511",
   "metadata": {},
   "source": [
    "Most of the People with normal or lower salary prefers **KP281** product and their median ages are around 32 and 24 respectively."
   ]
  },
  {
   "cell_type": "markdown",
   "id": "52a5c5ee",
   "metadata": {},
   "source": [
    "People who earns more would be of age 30 as it always takes time to land up in a high paying job and they are also the people who buy KP781."
   ]
  },
  {
   "cell_type": "markdown",
   "id": "b3c6ff9c",
   "metadata": {},
   "source": [
    "##### Median salaries of people who bought different products"
   ]
  },
  {
   "cell_type": "code",
   "execution_count": 49,
   "id": "212c1e9e",
   "metadata": {},
   "outputs": [
    {
     "data": {
      "image/png": "[encoded data removed]",
      "text/plain": [
       "<Figure size 1200x800 with 1 Axes>"
      ]
     },
     "metadata": {},
     "output_type": "display_data"
    }
   ],
   "source": [
    "plt.figure(figsize=(12,8))\n",
    "sns.countplot(data=df,x='Income',hue='PayType')\n",
    "plt.xticks(rotation = 90)\n",
    "plt.show()"
   ]
  },
  {
   "cell_type": "code",
   "execution_count": 50,
   "id": "b4f01861",
   "metadata": {},
   "outputs": [
    {
     "data": {
      "image/png": "[encoded data removed]",
      "text/plain": [
       "<Figure size 1000x800 with 1 Axes>"
      ]
     },
     "metadata": {},
     "output_type": "display_data"
    }
   ],
   "source": [
    "plt.figure(figsize = (10,8))\n",
    "sns.boxplot(data=df,x='Product',y='Income',hue='PayType')\n",
    "plt.show()"
   ]
  },
  {
   "cell_type": "markdown",
   "id": "c9bcdec1",
   "metadata": {},
   "source": [
    "From the above plot,\n",
    "The Median salary of the Low Pay Type people who bought **KP281** is little more than 40000 dollars.\n",
    "The Median salary of the Normal Pay Type people who bought **KP281** is around 55000 dollars\n",
    "\n",
    "The Median salary of the Low Pay Type people who bought **KP481** is around 45000 dollars\n",
    "The Median salary of the Normal Pay Type people who bought **KP481** is little less than 55000 dollars\n",
    "\n",
    "The Median salary of the Low Pay Type people who bought **KP781** is 50000 dollars\n",
    "The Median salary of the Normal Pay Type people who bought **KP781** is little less than 60000 dollars. Whereas\n",
    "The Median salary of the High Pay Type people who bought **KP781** is around 90000 dollars.\n",
    "<br></br>\n",
    "<br></br>\n",
    "**Insight:::** People who earns exceptionally high tends to buy the Costly **KP781** as it becomes affordable for them. "
   ]
  },
  {
   "cell_type": "markdown",
   "id": "32fdf652",
   "metadata": {},
   "source": [
    "##### Distribution of Miles per week."
   ]
  },
  {
   "cell_type": "code",
   "execution_count": 51,
   "id": "1197d8f5",
   "metadata": {},
   "outputs": [
    {
     "data": {
      "text/html": [
       "<div>\n",
       "<style scoped>\n",
       "    .dataframe tbody tr th:only-of-type {\n",
       "        vertical-align: middle;\n",
       "    }\n",
       "\n",
       "    .dataframe tbody tr th {\n",
       "        vertical-align: top;\n",
       "    }\n",
       "\n",
       "    .dataframe thead th {\n",
       "        text-align: right;\n",
       "    }\n",
       "</style>\n",
       "<table border=\"1\" class=\"dataframe\">\n",
       "  <thead>\n",
       "    <tr style=\"text-align: right;\">\n",
       "      <th></th>\n",
       "      <th>Product</th>\n",
       "      <th>Age</th>\n",
       "      <th>Gender</th>\n",
       "      <th>Education</th>\n",
       "      <th>MaritalStatus</th>\n",
       "      <th>Usage</th>\n",
       "      <th>Fitness</th>\n",
       "      <th>Income</th>\n",
       "      <th>Miles</th>\n",
       "      <th>PayType</th>\n",
       "    </tr>\n",
       "  </thead>\n",
       "  <tbody>\n",
       "    <tr>\n",
       "      <th>0</th>\n",
       "      <td>KP281</td>\n",
       "      <td>18</td>\n",
       "      <td>Male</td>\n",
       "      <td>14</td>\n",
       "      <td>Single</td>\n",
       "      <td>3</td>\n",
       "      <td>4</td>\n",
       "      <td>29562</td>\n",
       "      <td>112</td>\n",
       "      <td>Low Pay</td>\n",
       "    </tr>\n",
       "    <tr>\n",
       "      <th>1</th>\n",
       "      <td>KP281</td>\n",
       "      <td>19</td>\n",
       "      <td>Male</td>\n",
       "      <td>15</td>\n",
       "      <td>Single</td>\n",
       "      <td>2</td>\n",
       "      <td>3</td>\n",
       "      <td>31836</td>\n",
       "      <td>75</td>\n",
       "      <td>Low Pay</td>\n",
       "    </tr>\n",
       "    <tr>\n",
       "      <th>2</th>\n",
       "      <td>KP281</td>\n",
       "      <td>19</td>\n",
       "      <td>Female</td>\n",
       "      <td>14</td>\n",
       "      <td>Partnered</td>\n",
       "      <td>4</td>\n",
       "      <td>3</td>\n",
       "      <td>30699</td>\n",
       "      <td>66</td>\n",
       "      <td>Low Pay</td>\n",
       "    </tr>\n",
       "    <tr>\n",
       "      <th>3</th>\n",
       "      <td>KP281</td>\n",
       "      <td>19</td>\n",
       "      <td>Male</td>\n",
       "      <td>12</td>\n",
       "      <td>Single</td>\n",
       "      <td>3</td>\n",
       "      <td>3</td>\n",
       "      <td>32973</td>\n",
       "      <td>85</td>\n",
       "      <td>Low Pay</td>\n",
       "    </tr>\n",
       "    <tr>\n",
       "      <th>4</th>\n",
       "      <td>KP281</td>\n",
       "      <td>20</td>\n",
       "      <td>Male</td>\n",
       "      <td>13</td>\n",
       "      <td>Partnered</td>\n",
       "      <td>4</td>\n",
       "      <td>2</td>\n",
       "      <td>35247</td>\n",
       "      <td>47</td>\n",
       "      <td>Low Pay</td>\n",
       "    </tr>\n",
       "  </tbody>\n",
       "</table>\n",
       "</div>"
      ],
      "text/plain": [
       "  Product  Age  Gender  Education MaritalStatus  Usage  Fitness  Income  \\\n",
       "0   KP281   18    Male         14        Single      3        4   29562   \n",
       "1   KP281   19    Male         15        Single      2        3   31836   \n",
       "2   KP281   19  Female         14     Partnered      4        3   30699   \n",
       "3   KP281   19    Male         12        Single      3        3   32973   \n",
       "4   KP281   20    Male         13     Partnered      4        2   35247   \n",
       "\n",
       "   Miles  PayType  \n",
       "0    112  Low Pay  \n",
       "1     75  Low Pay  \n",
       "2     66  Low Pay  \n",
       "3     85  Low Pay  \n",
       "4     47  Low Pay  "
      ]
     },
     "execution_count": 51,
     "metadata": {},
     "output_type": "execute_result"
    }
   ],
   "source": [
    "df.head()   #We can also segregate the members based on the number of miles covered in a week"
   ]
  },
  {
   "cell_type": "code",
   "execution_count": 52,
   "id": "2132ebd8",
   "metadata": {},
   "outputs": [
    {
     "data": {
      "text/plain": [
       "<Axes: xlabel='Miles', ylabel='Count'>"
      ]
     },
     "execution_count": 52,
     "metadata": {},
     "output_type": "execute_result"
    },
    {
     "data": {
      "image/png": "[encoded data removed]",
      "text/plain": [
       "<Figure size 640x480 with 1 Axes>"
      ]
     },
     "metadata": {},
     "output_type": "display_data"
    }
   ],
   "source": [
    "sns.histplot(df['Miles'],bins=40,kde=True)"
   ]
  },
  {
   "cell_type": "markdown",
   "id": "091e436d",
   "metadata": {},
   "source": [
    "We can categorize the members based on the Miles covered by them per week."
   ]
  },
  {
   "cell_type": "code",
   "execution_count": 53,
   "id": "6b9b0a2e",
   "metadata": {},
   "outputs": [],
   "source": [
    "mile_vals = [20,135,248,361]\n",
    "mile_labels = ['short_distance','normal_distance','long_distance']\n",
    "df['Distance_Type'] = pd.cut(df['Miles'],labels=mile_labels,bins=mile_vals)"
   ]
  },
  {
   "cell_type": "code",
   "execution_count": 54,
   "id": "5f30005b",
   "metadata": {},
   "outputs": [
    {
     "data": {
      "text/html": [
       "<div>\n",
       "<style scoped>\n",
       "    .dataframe tbody tr th:only-of-type {\n",
       "        vertical-align: middle;\n",
       "    }\n",
       "\n",
       "    .dataframe tbody tr th {\n",
       "        vertical-align: top;\n",
       "    }\n",
       "\n",
       "    .dataframe thead th {\n",
       "        text-align: right;\n",
       "    }\n",
       "</style>\n",
       "<table border=\"1\" class=\"dataframe\">\n",
       "  <thead>\n",
       "    <tr style=\"text-align: right;\">\n",
       "      <th></th>\n",
       "      <th>Product</th>\n",
       "      <th>Age</th>\n",
       "      <th>Gender</th>\n",
       "      <th>Education</th>\n",
       "      <th>MaritalStatus</th>\n",
       "      <th>Usage</th>\n",
       "      <th>Fitness</th>\n",
       "      <th>Income</th>\n",
       "      <th>Miles</th>\n",
       "      <th>PayType</th>\n",
       "      <th>Distance_Type</th>\n",
       "    </tr>\n",
       "  </thead>\n",
       "  <tbody>\n",
       "    <tr>\n",
       "      <th>0</th>\n",
       "      <td>KP281</td>\n",
       "      <td>18</td>\n",
       "      <td>Male</td>\n",
       "      <td>14</td>\n",
       "      <td>Single</td>\n",
       "      <td>3</td>\n",
       "      <td>4</td>\n",
       "      <td>29562</td>\n",
       "      <td>112</td>\n",
       "      <td>Low Pay</td>\n",
       "      <td>short_distance</td>\n",
       "    </tr>\n",
       "    <tr>\n",
       "      <th>1</th>\n",
       "      <td>KP281</td>\n",
       "      <td>19</td>\n",
       "      <td>Male</td>\n",
       "      <td>15</td>\n",
       "      <td>Single</td>\n",
       "      <td>2</td>\n",
       "      <td>3</td>\n",
       "      <td>31836</td>\n",
       "      <td>75</td>\n",
       "      <td>Low Pay</td>\n",
       "      <td>short_distance</td>\n",
       "    </tr>\n",
       "    <tr>\n",
       "      <th>2</th>\n",
       "      <td>KP281</td>\n",
       "      <td>19</td>\n",
       "      <td>Female</td>\n",
       "      <td>14</td>\n",
       "      <td>Partnered</td>\n",
       "      <td>4</td>\n",
       "      <td>3</td>\n",
       "      <td>30699</td>\n",
       "      <td>66</td>\n",
       "      <td>Low Pay</td>\n",
       "      <td>short_distance</td>\n",
       "    </tr>\n",
       "    <tr>\n",
       "      <th>3</th>\n",
       "      <td>KP281</td>\n",
       "      <td>19</td>\n",
       "      <td>Male</td>\n",
       "      <td>12</td>\n",
       "      <td>Single</td>\n",
       "      <td>3</td>\n",
       "      <td>3</td>\n",
       "      <td>32973</td>\n",
       "      <td>85</td>\n",
       "      <td>Low Pay</td>\n",
       "      <td>short_distance</td>\n",
       "    </tr>\n",
       "    <tr>\n",
       "      <th>4</th>\n",
       "      <td>KP281</td>\n",
       "      <td>20</td>\n",
       "      <td>Male</td>\n",
       "      <td>13</td>\n",
       "      <td>Partnered</td>\n",
       "      <td>4</td>\n",
       "      <td>2</td>\n",
       "      <td>35247</td>\n",
       "      <td>47</td>\n",
       "      <td>Low Pay</td>\n",
       "      <td>short_distance</td>\n",
       "    </tr>\n",
       "  </tbody>\n",
       "</table>\n",
       "</div>"
      ],
      "text/plain": [
       "  Product  Age  Gender  Education MaritalStatus  Usage  Fitness  Income  \\\n",
       "0   KP281   18    Male         14        Single      3        4   29562   \n",
       "1   KP281   19    Male         15        Single      2        3   31836   \n",
       "2   KP281   19  Female         14     Partnered      4        3   30699   \n",
       "3   KP281   19    Male         12        Single      3        3   32973   \n",
       "4   KP281   20    Male         13     Partnered      4        2   35247   \n",
       "\n",
       "   Miles  PayType   Distance_Type  \n",
       "0    112  Low Pay  short_distance  \n",
       "1     75  Low Pay  short_distance  \n",
       "2     66  Low Pay  short_distance  \n",
       "3     85  Low Pay  short_distance  \n",
       "4     47  Low Pay  short_distance  "
      ]
     },
     "execution_count": 54,
     "metadata": {},
     "output_type": "execute_result"
    }
   ],
   "source": [
    "df.head()"
   ]
  },
  {
   "cell_type": "markdown",
   "id": "0e87b7bb",
   "metadata": {},
   "source": [
    "From this we can see the average miles covered using each of the different Treadmils."
   ]
  },
  {
   "cell_type": "code",
   "execution_count": 55,
   "id": "9d796d7f",
   "metadata": {},
   "outputs": [
    {
     "data": {
      "image/png": "[encoded data removed]",
      "text/plain": [
       "<Figure size 1200x800 with 1 Axes>"
      ]
     },
     "metadata": {},
     "output_type": "display_data"
    }
   ],
   "source": [
    "plt.figure(figsize=(12,8))\n",
    "sns.boxplot(data=df,x='Product',y='Miles',hue='Distance_Type')\n",
    "plt.show()"
   ]
  },
  {
   "cell_type": "markdown",
   "id": "b195ab84",
   "metadata": {},
   "source": [
    "**Insight:::** People who owns **KP781** product tends to walk more than 120 miles weekly."
   ]
  },
  {
   "cell_type": "markdown",
   "id": "3541a2ce",
   "metadata": {},
   "source": [
    "### Check of correlation of different  factors."
   ]
  },
  {
   "cell_type": "code",
   "execution_count": 56,
   "id": "bc110652",
   "metadata": {},
   "outputs": [
    {
     "data": {
      "text/plain": [
       "['Age', 'Education', 'Usage', 'Fitness', 'Income', 'Miles']"
      ]
     },
     "execution_count": 56,
     "metadata": {},
     "output_type": "execute_result"
    }
   ],
   "source": [
    "num_cols   #We will find the correlation between these numerical columns alone."
   ]
  },
  {
   "cell_type": "code",
   "execution_count": 57,
   "id": "f35828f7",
   "metadata": {},
   "outputs": [
    {
     "data": {
      "text/plain": [
       "<Figure size 1200x800 with 0 Axes>"
      ]
     },
     "metadata": {},
     "output_type": "display_data"
    },
    {
     "data": {
      "image/png": "[encoded data removed]",
      "text/plain": [
       "<Figure size 1500x1500 with 42 Axes>"
      ]
     },
     "metadata": {},
     "output_type": "display_data"
    }
   ],
   "source": [
    "plt.figure(figsize=(12,8))\n",
    "sns.pairplot(data=df)\n",
    "plt.show()"
   ]
  },
  {
   "cell_type": "markdown",
   "id": "38d4015c",
   "metadata": {},
   "source": [
    "From the above we can see that there are many features in the dataset that are directly and positively correlated with each other. \n",
    "<br></br>\n",
    "For Example: **Fitness** and **Miles**. From the plot we can observe that the fitness level of a particular person is high if he walks/runs more number of miles per week"
   ]
  },
  {
   "cell_type": "code",
   "execution_count": 59,
   "id": "6b611d0a",
   "metadata": {},
   "outputs": [
    {
     "data": {
      "text/plain": [
       "<Axes: xlabel='Fitness', ylabel='Miles'>"
      ]
     },
     "execution_count": 59,
     "metadata": {},
     "output_type": "execute_result"
    },
    {
     "data": {
      "image/png": "[encoded data removed]",
      "text/plain": [
       "<Figure size 640x480 with 1 Axes>"
      ]
     },
     "metadata": {},
     "output_type": "display_data"
    }
   ],
   "source": [
    "sns.scatterplot(data=df,x='Fitness',y='Miles')"
   ]
  },
  {
   "cell_type": "markdown",
   "id": "6a5e052e",
   "metadata": {},
   "source": [
    "Similarly the feature **Fitness** is also positively correlated with the **Usage** feature. It can be concluded saying that the fitness levels are high for those people who tends to use Treadmil frequently in a week."
   ]
  },
  {
   "cell_type": "code",
   "execution_count": 60,
   "id": "95eff39b",
   "metadata": {},
   "outputs": [
    {
     "data": {
      "text/plain": [
       "<Axes: xlabel='Fitness', ylabel='Usage'>"
      ]
     },
     "execution_count": 60,
     "metadata": {},
     "output_type": "execute_result"
    },
    {
     "data": {
      "image/png": "[encoded data removed]",
      "text/plain": [
       "<Figure size 640x480 with 1 Axes>"
      ]
     },
     "metadata": {},
     "output_type": "display_data"
    }
   ],
   "source": [
    "sns.scatterplot(data=df,x='Fitness',y='Usage')"
   ]
  },
  {
   "cell_type": "markdown",
   "id": "fb9c9347",
   "metadata": {},
   "source": [
    "*The total number of miles covered by each person per week tends to be high if their frequency of usage of treadmill per week is high.*"
   ]
  },
  {
   "cell_type": "code",
   "execution_count": 61,
   "id": "d89b2c7f",
   "metadata": {},
   "outputs": [
    {
     "data": {
      "text/plain": [
       "<Axes: xlabel='Usage', ylabel='Miles'>"
      ]
     },
     "execution_count": 61,
     "metadata": {},
     "output_type": "execute_result"
    },
    {
     "data": {
      "image/png": "[encoded data removed]",
      "text/plain": [
       "<Figure size 640x480 with 1 Axes>"
      ]
     },
     "metadata": {},
     "output_type": "display_data"
    }
   ],
   "source": [
    "sns.scatterplot(data=df,x='Usage',y='Miles')"
   ]
  },
  {
   "cell_type": "markdown",
   "id": "549ee7fe",
   "metadata": {},
   "source": [
    "##### Conditional and Marginal Probabilities for the dataset"
   ]
  },
  {
   "cell_type": "code",
   "execution_count": 62,
   "id": "f9e9f8a6",
   "metadata": {},
   "outputs": [
    {
     "data": {
      "text/html": [
       "<div>\n",
       "<style scoped>\n",
       "    .dataframe tbody tr th:only-of-type {\n",
       "        vertical-align: middle;\n",
       "    }\n",
       "\n",
       "    .dataframe tbody tr th {\n",
       "        vertical-align: top;\n",
       "    }\n",
       "\n",
       "    .dataframe thead th {\n",
       "        text-align: right;\n",
       "    }\n",
       "</style>\n",
       "<table border=\"1\" class=\"dataframe\">\n",
       "  <thead>\n",
       "    <tr style=\"text-align: right;\">\n",
       "      <th></th>\n",
       "      <th>Product</th>\n",
       "      <th>Age</th>\n",
       "      <th>Gender</th>\n",
       "      <th>Education</th>\n",
       "      <th>MaritalStatus</th>\n",
       "      <th>Usage</th>\n",
       "      <th>Fitness</th>\n",
       "      <th>Income</th>\n",
       "      <th>Miles</th>\n",
       "      <th>PayType</th>\n",
       "      <th>Distance_Type</th>\n",
       "    </tr>\n",
       "  </thead>\n",
       "  <tbody>\n",
       "    <tr>\n",
       "      <th>0</th>\n",
       "      <td>KP281</td>\n",
       "      <td>18</td>\n",
       "      <td>Male</td>\n",
       "      <td>14</td>\n",
       "      <td>Single</td>\n",
       "      <td>3</td>\n",
       "      <td>4</td>\n",
       "      <td>29562</td>\n",
       "      <td>112</td>\n",
       "      <td>Low Pay</td>\n",
       "      <td>short_distance</td>\n",
       "    </tr>\n",
       "    <tr>\n",
       "      <th>1</th>\n",
       "      <td>KP281</td>\n",
       "      <td>19</td>\n",
       "      <td>Male</td>\n",
       "      <td>15</td>\n",
       "      <td>Single</td>\n",
       "      <td>2</td>\n",
       "      <td>3</td>\n",
       "      <td>31836</td>\n",
       "      <td>75</td>\n",
       "      <td>Low Pay</td>\n",
       "      <td>short_distance</td>\n",
       "    </tr>\n",
       "    <tr>\n",
       "      <th>2</th>\n",
       "      <td>KP281</td>\n",
       "      <td>19</td>\n",
       "      <td>Female</td>\n",
       "      <td>14</td>\n",
       "      <td>Partnered</td>\n",
       "      <td>4</td>\n",
       "      <td>3</td>\n",
       "      <td>30699</td>\n",
       "      <td>66</td>\n",
       "      <td>Low Pay</td>\n",
       "      <td>short_distance</td>\n",
       "    </tr>\n",
       "    <tr>\n",
       "      <th>3</th>\n",
       "      <td>KP281</td>\n",
       "      <td>19</td>\n",
       "      <td>Male</td>\n",
       "      <td>12</td>\n",
       "      <td>Single</td>\n",
       "      <td>3</td>\n",
       "      <td>3</td>\n",
       "      <td>32973</td>\n",
       "      <td>85</td>\n",
       "      <td>Low Pay</td>\n",
       "      <td>short_distance</td>\n",
       "    </tr>\n",
       "    <tr>\n",
       "      <th>4</th>\n",
       "      <td>KP281</td>\n",
       "      <td>20</td>\n",
       "      <td>Male</td>\n",
       "      <td>13</td>\n",
       "      <td>Partnered</td>\n",
       "      <td>4</td>\n",
       "      <td>2</td>\n",
       "      <td>35247</td>\n",
       "      <td>47</td>\n",
       "      <td>Low Pay</td>\n",
       "      <td>short_distance</td>\n",
       "    </tr>\n",
       "  </tbody>\n",
       "</table>\n",
       "</div>"
      ],
      "text/plain": [
       "  Product  Age  Gender  Education MaritalStatus  Usage  Fitness  Income  \\\n",
       "0   KP281   18    Male         14        Single      3        4   29562   \n",
       "1   KP281   19    Male         15        Single      2        3   31836   \n",
       "2   KP281   19  Female         14     Partnered      4        3   30699   \n",
       "3   KP281   19    Male         12        Single      3        3   32973   \n",
       "4   KP281   20    Male         13     Partnered      4        2   35247   \n",
       "\n",
       "   Miles  PayType   Distance_Type  \n",
       "0    112  Low Pay  short_distance  \n",
       "1     75  Low Pay  short_distance  \n",
       "2     66  Low Pay  short_distance  \n",
       "3     85  Low Pay  short_distance  \n",
       "4     47  Low Pay  short_distance  "
      ]
     },
     "execution_count": 62,
     "metadata": {},
     "output_type": "execute_result"
    }
   ],
   "source": [
    "df.head()  #head of the dataset."
   ]
  },
  {
   "cell_type": "markdown",
   "id": "dcc60c53",
   "metadata": {},
   "source": [
    "###### Marginal Probability of the people buying different products"
   ]
  },
  {
   "cell_type": "code",
   "execution_count": 63,
   "id": "097feb65",
   "metadata": {},
   "outputs": [
    {
     "data": {
      "text/plain": [
       "180"
      ]
     },
     "execution_count": 63,
     "metadata": {},
     "output_type": "execute_result"
    }
   ],
   "source": [
    "len(df)"
   ]
  },
  {
   "cell_type": "markdown",
   "id": "3aea5178",
   "metadata": {},
   "source": [
    "*The total number of records in the dataset is 180.*"
   ]
  },
  {
   "cell_type": "code",
   "execution_count": 64,
   "id": "0d31b51f",
   "metadata": {},
   "outputs": [
    {
     "data": {
      "text/html": [
       "<div>\n",
       "<style scoped>\n",
       "    .dataframe tbody tr th:only-of-type {\n",
       "        vertical-align: middle;\n",
       "    }\n",
       "\n",
       "    .dataframe tbody tr th {\n",
       "        vertical-align: top;\n",
       "    }\n",
       "\n",
       "    .dataframe thead th {\n",
       "        text-align: right;\n",
       "    }\n",
       "</style>\n",
       "<table border=\"1\" class=\"dataframe\">\n",
       "  <thead>\n",
       "    <tr style=\"text-align: right;\">\n",
       "      <th>Product</th>\n",
       "      <th>KP281</th>\n",
       "      <th>KP481</th>\n",
       "      <th>KP781</th>\n",
       "      <th>Marginal_Probability</th>\n",
       "    </tr>\n",
       "    <tr>\n",
       "      <th>Product</th>\n",
       "      <th></th>\n",
       "      <th></th>\n",
       "      <th></th>\n",
       "      <th></th>\n",
       "    </tr>\n",
       "  </thead>\n",
       "  <tbody>\n",
       "    <tr>\n",
       "      <th>KP281</th>\n",
       "      <td>0.444444</td>\n",
       "      <td>0.000000</td>\n",
       "      <td>0.000000</td>\n",
       "      <td>0.444444</td>\n",
       "    </tr>\n",
       "    <tr>\n",
       "      <th>KP481</th>\n",
       "      <td>0.000000</td>\n",
       "      <td>0.333333</td>\n",
       "      <td>0.000000</td>\n",
       "      <td>0.333333</td>\n",
       "    </tr>\n",
       "    <tr>\n",
       "      <th>KP781</th>\n",
       "      <td>0.000000</td>\n",
       "      <td>0.000000</td>\n",
       "      <td>0.222222</td>\n",
       "      <td>0.222222</td>\n",
       "    </tr>\n",
       "    <tr>\n",
       "      <th>Marginal_Probability</th>\n",
       "      <td>0.444444</td>\n",
       "      <td>0.333333</td>\n",
       "      <td>0.222222</td>\n",
       "      <td>1.000000</td>\n",
       "    </tr>\n",
       "  </tbody>\n",
       "</table>\n",
       "</div>"
      ],
      "text/plain": [
       "Product                  KP281     KP481     KP781  Marginal_Probability\n",
       "Product                                                                 \n",
       "KP281                 0.444444  0.000000  0.000000              0.444444\n",
       "KP481                 0.000000  0.333333  0.000000              0.333333\n",
       "KP781                 0.000000  0.000000  0.222222              0.222222\n",
       "Marginal_Probability  0.444444  0.333333  0.222222              1.000000"
      ]
     },
     "execution_count": 64,
     "metadata": {},
     "output_type": "execute_result"
    }
   ],
   "source": [
    "pd.crosstab(df['Product'],df['Product'],margins=True,normalize=True,margins_name='Marginal_Probability')"
   ]
  },
  {
   "cell_type": "markdown",
   "id": "c039e294",
   "metadata": {},
   "source": [
    "*We have to pass **Normalize** as True to the function inorder to get the Probabilities in each cell of the Cross-Tabulated table.*"
   ]
  },
  {
   "cell_type": "code",
   "execution_count": 65,
   "id": "c745db63",
   "metadata": {},
   "outputs": [
    {
     "data": {
      "text/plain": [
       "Product\n",
       "KP281                   0.444444\n",
       "KP481                   0.333333\n",
       "KP781                   0.222222\n",
       "Marginal_Probability    1.000000\n",
       "Name: Marginal_Probability, dtype: float64"
      ]
     },
     "execution_count": 65,
     "metadata": {},
     "output_type": "execute_result"
    }
   ],
   "source": [
    "pd.crosstab(df['Product'],df['Product'],margins=True,normalize=True,margins_name='Marginal_Probability')['Marginal_Probability']  #Extracting the Marginal Probabilities alone from the crosstab."
   ]
  },
  {
   "cell_type": "markdown",
   "id": "2f61e552",
   "metadata": {},
   "source": [
    "From the above we can see the Probabilities of the customer who have bought different products. \n",
    "\n",
    "1. The Marginal probability of people buying **KP281** is 0.445\n",
    "2. The Marginal probability of people buying **KP481** is 0.334\n",
    "3. The Marginal probability of people buying **KP781** is 0.223\n",
    "\n",
    "\n",
    "A little less than 50% of the people tend to buy **KP281** and it is the most sold product from Aerofit. It is the cheapest product from Aerofit and people find it more affordable to buy one.\n",
    "\n",
    "Actionable item: Some changes can be done in other 2 products in varies areas like features, pricing which attracts customers."
   ]
  },
  {
   "cell_type": "markdown",
   "id": "32db4bc2",
   "metadata": {},
   "source": [
    "#### Marginal probabilities of 2 Genders who bought different products"
   ]
  },
  {
   "cell_type": "code",
   "execution_count": 66,
   "id": "46a2122b",
   "metadata": {},
   "outputs": [
    {
     "data": {
      "text/html": [
       "<div>\n",
       "<style scoped>\n",
       "    .dataframe tbody tr th:only-of-type {\n",
       "        vertical-align: middle;\n",
       "    }\n",
       "\n",
       "    .dataframe tbody tr th {\n",
       "        vertical-align: top;\n",
       "    }\n",
       "\n",
       "    .dataframe thead th {\n",
       "        text-align: right;\n",
       "    }\n",
       "</style>\n",
       "<table border=\"1\" class=\"dataframe\">\n",
       "  <thead>\n",
       "    <tr style=\"text-align: right;\">\n",
       "      <th>Gender</th>\n",
       "      <th>Female</th>\n",
       "      <th>Male</th>\n",
       "      <th>Marginal probability</th>\n",
       "    </tr>\n",
       "    <tr>\n",
       "      <th>Gender</th>\n",
       "      <th></th>\n",
       "      <th></th>\n",
       "      <th></th>\n",
       "    </tr>\n",
       "  </thead>\n",
       "  <tbody>\n",
       "    <tr>\n",
       "      <th>Female</th>\n",
       "      <td>0.422222</td>\n",
       "      <td>0.000000</td>\n",
       "      <td>0.422222</td>\n",
       "    </tr>\n",
       "    <tr>\n",
       "      <th>Male</th>\n",
       "      <td>0.000000</td>\n",
       "      <td>0.577778</td>\n",
       "      <td>0.577778</td>\n",
       "    </tr>\n",
       "    <tr>\n",
       "      <th>Marginal probability</th>\n",
       "      <td>0.422222</td>\n",
       "      <td>0.577778</td>\n",
       "      <td>1.000000</td>\n",
       "    </tr>\n",
       "  </tbody>\n",
       "</table>\n",
       "</div>"
      ],
      "text/plain": [
       "Gender                  Female      Male  Marginal probability\n",
       "Gender                                                        \n",
       "Female                0.422222  0.000000              0.422222\n",
       "Male                  0.000000  0.577778              0.577778\n",
       "Marginal probability  0.422222  0.577778              1.000000"
      ]
     },
     "execution_count": 66,
     "metadata": {},
     "output_type": "execute_result"
    }
   ],
   "source": [
    "pd.crosstab(index=df['Gender'],columns=df['Gender'],margins=True,normalize=True,margins_name='Marginal probability')"
   ]
  },
  {
   "cell_type": "markdown",
   "id": "f600d5e4",
   "metadata": {},
   "source": [
    "So the probability of a **Female** buying the product is **0.4223** and the probability of **Male** buying the product is **0.5778**."
   ]
  },
  {
   "cell_type": "markdown",
   "id": "817d0723",
   "metadata": {},
   "source": [
    "### To find the probabilities of different Gender buying the available different products."
   ]
  },
  {
   "cell_type": "markdown",
   "id": "17ebeabb",
   "metadata": {},
   "source": [
    "*To compute this we have to pass **Product** and **Gender** series to the pd.crosstab function.*"
   ]
  },
  {
   "cell_type": "code",
   "execution_count": 67,
   "id": "4816019e",
   "metadata": {},
   "outputs": [
    {
     "data": {
      "text/html": [
       "<div>\n",
       "<style scoped>\n",
       "    .dataframe tbody tr th:only-of-type {\n",
       "        vertical-align: middle;\n",
       "    }\n",
       "\n",
       "    .dataframe tbody tr th {\n",
       "        vertical-align: top;\n",
       "    }\n",
       "\n",
       "    .dataframe thead th {\n",
       "        text-align: right;\n",
       "    }\n",
       "</style>\n",
       "<table border=\"1\" class=\"dataframe\">\n",
       "  <thead>\n",
       "    <tr style=\"text-align: right;\">\n",
       "      <th>Gender</th>\n",
       "      <th>Female</th>\n",
       "      <th>Male</th>\n",
       "    </tr>\n",
       "    <tr>\n",
       "      <th>Product</th>\n",
       "      <th></th>\n",
       "      <th></th>\n",
       "    </tr>\n",
       "  </thead>\n",
       "  <tbody>\n",
       "    <tr>\n",
       "      <th>KP281</th>\n",
       "      <td>0.222222</td>\n",
       "      <td>0.222222</td>\n",
       "    </tr>\n",
       "    <tr>\n",
       "      <th>KP481</th>\n",
       "      <td>0.161111</td>\n",
       "      <td>0.172222</td>\n",
       "    </tr>\n",
       "    <tr>\n",
       "      <th>KP781</th>\n",
       "      <td>0.038889</td>\n",
       "      <td>0.183333</td>\n",
       "    </tr>\n",
       "  </tbody>\n",
       "</table>\n",
       "</div>"
      ],
      "text/plain": [
       "Gender     Female      Male\n",
       "Product                    \n",
       "KP281    0.222222  0.222222\n",
       "KP481    0.161111  0.172222\n",
       "KP781    0.038889  0.183333"
      ]
     },
     "execution_count": 67,
     "metadata": {},
     "output_type": "execute_result"
    }
   ],
   "source": [
    "pd.crosstab(df['Product'],df['Gender'],normalize=True)"
   ]
  },
  {
   "cell_type": "markdown",
   "id": "a93b58d1",
   "metadata": {},
   "source": [
    "From the above grid we can conclude the following:\n",
    "\n",
    "* The conditional probability of a Female buying the product **KP281** is **0.222**\n",
    "* The condition probability of a Male buying the product **KP281** is **0.222**\n",
    "<br></br>\n",
    "* The condition probability of a Male buying the product **KP481** is **0.17222**\n",
    "* The condition probability of a Female buying the product **KP481** is **0.16111**\n",
    "<br></br>\n",
    "* The condition probability of a Male buying the product **KP781** is **0.18333**\n",
    "* The condition probability of a Female buying the product **KP781** is **0.038889**\n",
    "<br></br>\n",
    "Both Male and Female are equally probable to buy **KP281** product. For the other products probability of Male's buying them is slightly higher than that of Female's buying them."
   ]
  },
  {
   "cell_type": "markdown",
   "id": "f402db43",
   "metadata": {},
   "source": [
    "#### Marginal Probability of different Marital Status"
   ]
  },
  {
   "cell_type": "code",
   "execution_count": 68,
   "id": "daa6fe73",
   "metadata": {},
   "outputs": [
    {
     "data": {
      "text/plain": [
       "MaritalStatus\n",
       "Partnered    0.594444\n",
       "Single       0.405556\n",
       "All          1.000000\n",
       "Name: All, dtype: float64"
      ]
     },
     "execution_count": 68,
     "metadata": {},
     "output_type": "execute_result"
    }
   ],
   "source": [
    "pd.crosstab(df['MaritalStatus'],df['MaritalStatus'],normalize=True,margins=True)['All']"
   ]
  },
  {
   "cell_type": "markdown",
   "id": "17d3a159",
   "metadata": {},
   "source": [
    "* The Probability of a **Single** person buying a product is 0.4055\n",
    "* The Probability of a **Married/ Partnered** person buying a product is 0.5945"
   ]
  },
  {
   "cell_type": "markdown",
   "id": "41f6b996",
   "metadata": {},
   "source": [
    "#### Conditional Probability of different Marital Status on buying the product"
   ]
  },
  {
   "cell_type": "code",
   "execution_count": 69,
   "id": "29e1df20",
   "metadata": {},
   "outputs": [
    {
     "data": {
      "text/html": [
       "<div>\n",
       "<style scoped>\n",
       "    .dataframe tbody tr th:only-of-type {\n",
       "        vertical-align: middle;\n",
       "    }\n",
       "\n",
       "    .dataframe tbody tr th {\n",
       "        vertical-align: top;\n",
       "    }\n",
       "\n",
       "    .dataframe thead th {\n",
       "        text-align: right;\n",
       "    }\n",
       "</style>\n",
       "<table border=\"1\" class=\"dataframe\">\n",
       "  <thead>\n",
       "    <tr style=\"text-align: right;\">\n",
       "      <th>MaritalStatus</th>\n",
       "      <th>Partnered</th>\n",
       "      <th>Single</th>\n",
       "    </tr>\n",
       "    <tr>\n",
       "      <th>Product</th>\n",
       "      <th></th>\n",
       "      <th></th>\n",
       "    </tr>\n",
       "  </thead>\n",
       "  <tbody>\n",
       "    <tr>\n",
       "      <th>KP281</th>\n",
       "      <td>0.266667</td>\n",
       "      <td>0.177778</td>\n",
       "    </tr>\n",
       "    <tr>\n",
       "      <th>KP481</th>\n",
       "      <td>0.200000</td>\n",
       "      <td>0.133333</td>\n",
       "    </tr>\n",
       "    <tr>\n",
       "      <th>KP781</th>\n",
       "      <td>0.127778</td>\n",
       "      <td>0.094444</td>\n",
       "    </tr>\n",
       "  </tbody>\n",
       "</table>\n",
       "</div>"
      ],
      "text/plain": [
       "MaritalStatus  Partnered    Single\n",
       "Product                           \n",
       "KP281           0.266667  0.177778\n",
       "KP481           0.200000  0.133333\n",
       "KP781           0.127778  0.094444"
      ]
     },
     "execution_count": 69,
     "metadata": {},
     "output_type": "execute_result"
    }
   ],
   "source": [
    "pd.crosstab(index=df['Product'],columns=df['MaritalStatus'],normalize=True)"
   ]
  },
  {
   "cell_type": "markdown",
   "id": "aa3e05af",
   "metadata": {},
   "source": [
    "From the above grid, we can infer that\n",
    "\n",
    "* The probability of **Partnered** people buying **KP281** product is 0.26667\n",
    "* The probability of **Single** people buying **KP281** product is 0.1778\n",
    "<br></br>\n",
    "* The probability of **Partnered** people buying **KP481** product is 0.2\n",
    "* The probability of **Single** people buying **KP481** product is 0.1333\n",
    "<br></br>\n",
    "* The probability of **Partnered** people buying **KP781** product is 0.12778\n",
    "* The probability of **Single** people buying **KP781** product is 0.09445\n",
    "<br></br>\n",
    "The probability of Partnered people buying any of the Aerofit's product is greater than that of Single people."
   ]
  },
  {
   "cell_type": "code",
   "execution_count": 70,
   "id": "df3f73a2",
   "metadata": {},
   "outputs": [],
   "source": [
    "#To the same analysis for PayType and DistanceType categorical features\n",
    "#Later start the same with other features like Age, Fitness and Usage"
   ]
  },
  {
   "cell_type": "markdown",
   "id": "e4286f86",
   "metadata": {},
   "source": [
    "#### Marginal Probability of different PayType"
   ]
  },
  {
   "cell_type": "code",
   "execution_count": 71,
   "id": "a262c54e",
   "metadata": {},
   "outputs": [
    {
     "data": {
      "text/plain": [
       "PayType\n",
       "Low Pay                 0.461111\n",
       "Normal Pay              0.411111\n",
       "High Pay                0.127778\n",
       "Marginal_Probability    1.000000\n",
       "Name: Marginal_Probability, dtype: float64"
      ]
     },
     "execution_count": 71,
     "metadata": {},
     "output_type": "execute_result"
    }
   ],
   "source": [
    "pd.crosstab(index=df['PayType'],columns=df['Product'],margins=True,margins_name='Marginal_Probability',normalize=True)['Marginal_Probability']"
   ]
  },
  {
   "cell_type": "markdown",
   "id": "21b1905a",
   "metadata": {},
   "source": [
    "From the above grid, we can say that,\n",
    "\n",
    "* The marginal probability of people buying any of the product with **Low salary** is 0.46112\n",
    "* The marginal probability of people buying any of the product with **Medium salary** is 0.4111\n",
    "* The marginal probability of people buying any of the product with **High salary** is 0.12778\n",
    "\n",
    "<br>\n",
    "About 50% of the people in the population have their salary categorized as \"Low Salary\" and about 41% of the people have their salary categorized as \"Medium Salary\"."
   ]
  },
  {
   "cell_type": "markdown",
   "id": "4f279730",
   "metadata": {},
   "source": [
    "##### Conditional Probability of different pay types on buying the product."
   ]
  },
  {
   "cell_type": "code",
   "execution_count": 72,
   "id": "e92186b9",
   "metadata": {},
   "outputs": [
    {
     "data": {
      "text/html": [
       "<div>\n",
       "<style scoped>\n",
       "    .dataframe tbody tr th:only-of-type {\n",
       "        vertical-align: middle;\n",
       "    }\n",
       "\n",
       "    .dataframe tbody tr th {\n",
       "        vertical-align: top;\n",
       "    }\n",
       "\n",
       "    .dataframe thead th {\n",
       "        text-align: right;\n",
       "    }\n",
       "</style>\n",
       "<table border=\"1\" class=\"dataframe\">\n",
       "  <thead>\n",
       "    <tr style=\"text-align: right;\">\n",
       "      <th>PayType</th>\n",
       "      <th>Low Pay</th>\n",
       "      <th>Normal Pay</th>\n",
       "      <th>High Pay</th>\n",
       "    </tr>\n",
       "    <tr>\n",
       "      <th>Product</th>\n",
       "      <th></th>\n",
       "      <th></th>\n",
       "      <th></th>\n",
       "    </tr>\n",
       "  </thead>\n",
       "  <tbody>\n",
       "    <tr>\n",
       "      <th>KP281</th>\n",
       "      <td>0.266667</td>\n",
       "      <td>0.177778</td>\n",
       "      <td>0.000000</td>\n",
       "    </tr>\n",
       "    <tr>\n",
       "      <th>KP481</th>\n",
       "      <td>0.166667</td>\n",
       "      <td>0.166667</td>\n",
       "      <td>0.000000</td>\n",
       "    </tr>\n",
       "    <tr>\n",
       "      <th>KP781</th>\n",
       "      <td>0.027778</td>\n",
       "      <td>0.066667</td>\n",
       "      <td>0.127778</td>\n",
       "    </tr>\n",
       "  </tbody>\n",
       "</table>\n",
       "</div>"
      ],
      "text/plain": [
       "PayType   Low Pay  Normal Pay  High Pay\n",
       "Product                                \n",
       "KP281    0.266667    0.177778  0.000000\n",
       "KP481    0.166667    0.166667  0.000000\n",
       "KP781    0.027778    0.066667  0.127778"
      ]
     },
     "execution_count": 72,
     "metadata": {},
     "output_type": "execute_result"
    }
   ],
   "source": [
    "pd.crosstab(index=df['Product'],columns=df['PayType'],normalize=True)"
   ]
  },
  {
   "cell_type": "markdown",
   "id": "f3a39245",
   "metadata": {},
   "source": [
    "From the above grid, we can infer that\n",
    "\n",
    "* The probability of people buying **KP281** product with Low salary pay type is **0.2667**\n",
    "* The probability of people buying **KP281** product with Normal salary pay type is **0.1778**\n",
    "* The probability of people buying **KP281** product with High salary pay type is **0.000**\n",
    "<br></br>\n",
    "* The probability of people buying **KP481** product with Low salary pay type is **0.1667**\n",
    "* The probability of people buying **KP481** product with Normal salary pay type is **0.1667**\n",
    "* The probability of people buying **KP481** product with High salary pay type is **0.000**\n",
    "<br></br>\n",
    "* The probability of people buying **KP781** product with Low salary pay type is **0.02778**\n",
    "* The probability of people buying **KP781** product with Normal salary pay type is **0.06667**\n",
    "* The probability of people buying **KP781** product with High salary pay type is **0.12778**\n",
    "<br></br>\n",
    "<br></br>\n",
    "From the above we can see that the people who are earning way higher have zero probability in buying the product KP281 and KP481. \n",
    "<br></br>\n",
    "Probability of people buying KP481 with salary categorized as Low and Normal are equal. They have the probability of 0.1667."
   ]
  },
  {
   "cell_type": "markdown",
   "id": "ac362a7b",
   "metadata": {},
   "source": [
    "#### Marginal probability of different distance types covered"
   ]
  },
  {
   "cell_type": "code",
   "execution_count": 73,
   "id": "0abab1ca",
   "metadata": {},
   "outputs": [
    {
     "data": {
      "text/plain": [
       "Distance_Type\n",
       "short_distance          0.805556\n",
       "normal_distance         0.172222\n",
       "large_distance          0.022222\n",
       "Marginal_probability    1.000000\n",
       "Name: Marginal_probability, dtype: float64"
      ]
     },
     "execution_count": 73,
     "metadata": {},
     "output_type": "execute_result"
    }
   ],
   "source": [
    "pd.crosstab(index=df['Distance_Type'],columns=df['Product'],normalize=True,margins=True,margins_name='Marginal_probability')['Marginal_probability']"
   ]
  },
  {
   "cell_type": "markdown",
   "id": "04319d9e",
   "metadata": {},
   "source": [
    "From the above, we can say that \n",
    "\n",
    "* The marginal probability of the people covering **short distance** is **0.8056**\n",
    "* The marginal probability of the people covering **normal distance** is **0.17222**\n",
    "* The marginal probability of the people covering **long distance** is **0.0223**\n",
    "\n",
    "About 80% of the people in the population tends to cover only short distance (less than 130 miles) in a week."
   ]
  },
  {
   "cell_type": "markdown",
   "id": "81fc6904",
   "metadata": {},
   "source": [
    "##### Conditional probability of people buying different products based on the type of difference they cover."
   ]
  },
  {
   "cell_type": "code",
   "execution_count": 74,
   "id": "54199100",
   "metadata": {},
   "outputs": [
    {
     "data": {
      "text/html": [
       "<div>\n",
       "<style scoped>\n",
       "    .dataframe tbody tr th:only-of-type {\n",
       "        vertical-align: middle;\n",
       "    }\n",
       "\n",
       "    .dataframe tbody tr th {\n",
       "        vertical-align: top;\n",
       "    }\n",
       "\n",
       "    .dataframe thead th {\n",
       "        text-align: right;\n",
       "    }\n",
       "</style>\n",
       "<table border=\"1\" class=\"dataframe\">\n",
       "  <thead>\n",
       "    <tr style=\"text-align: right;\">\n",
       "      <th>Distance_Type</th>\n",
       "      <th>short_distance</th>\n",
       "      <th>normal_distance</th>\n",
       "      <th>large_distance</th>\n",
       "    </tr>\n",
       "    <tr>\n",
       "      <th>Product</th>\n",
       "      <th></th>\n",
       "      <th></th>\n",
       "      <th></th>\n",
       "    </tr>\n",
       "  </thead>\n",
       "  <tbody>\n",
       "    <tr>\n",
       "      <th>KP281</th>\n",
       "      <td>0.422222</td>\n",
       "      <td>0.022222</td>\n",
       "      <td>0.000000</td>\n",
       "    </tr>\n",
       "    <tr>\n",
       "      <th>KP481</th>\n",
       "      <td>0.316667</td>\n",
       "      <td>0.016667</td>\n",
       "      <td>0.000000</td>\n",
       "    </tr>\n",
       "    <tr>\n",
       "      <th>KP781</th>\n",
       "      <td>0.066667</td>\n",
       "      <td>0.133333</td>\n",
       "      <td>0.022222</td>\n",
       "    </tr>\n",
       "  </tbody>\n",
       "</table>\n",
       "</div>"
      ],
      "text/plain": [
       "Distance_Type  short_distance  normal_distance  large_distance\n",
       "Product                                                       \n",
       "KP281                0.422222         0.022222        0.000000\n",
       "KP481                0.316667         0.016667        0.000000\n",
       "KP781                0.066667         0.133333        0.022222"
      ]
     },
     "execution_count": 74,
     "metadata": {},
     "output_type": "execute_result"
    }
   ],
   "source": [
    "pd.crosstab(index=df['Product'],columns=df['Distance_Type'],normalize=True)"
   ]
  },
  {
   "cell_type": "markdown",
   "id": "ed2865d3",
   "metadata": {},
   "source": [
    "From the above grid, we can say that\n",
    "\n",
    "* The probability of people buying **KP281** who covers **short distance** in walking is **0.4223**\n",
    "* The probability of people buying **KP281** who covers **normal_distance** in walking is **0.0222**\n",
    "* The probability of people buying **KP281** who covers **long distance** in walking is **0.000**\n",
    "<br></br>\n",
    "* The probability of people buying **KP481** who covers **short distance** in walking is **0.31667**\n",
    "* The probability of people buying **KP481** who covers **normal_distance** in walking is **0.01667**\n",
    "* The probability of people buying **KP481** who covers **long distance** in walking is **0.000**\n",
    "<br></br>\n",
    "* The probability of people buying **KP781** who covers **short distance** in walking is **0.0667**\n",
    "* The probability of people buying **KP781** who covers **normal_distance** in walking is **0.1333**\n",
    "* The probability of people buying **KP781** who covers **long distance** in walking is **0.0222**\n",
    "\n",
    "<br></br>\n",
    "People who tends to walk a long distance prefers to buy the product **KP781** with the probability of **0.0222**"
   ]
  },
  {
   "cell_type": "markdown",
   "id": "dc13301e",
   "metadata": {},
   "source": [
    "#### Marginal probabilities of people of certain age buying products."
   ]
  },
  {
   "cell_type": "code",
   "execution_count": 75,
   "id": "fe98992b",
   "metadata": {},
   "outputs": [
    {
     "data": {
      "text/plain": [
       "Age\n",
       "18     0.005556\n",
       "19     0.022222\n",
       "20     0.027778\n",
       "21     0.038889\n",
       "22     0.038889\n",
       "23     0.100000\n",
       "24     0.066667\n",
       "25     0.138889\n",
       "26     0.066667\n",
       "27     0.038889\n",
       "28     0.050000\n",
       "29     0.033333\n",
       "30     0.038889\n",
       "31     0.033333\n",
       "32     0.022222\n",
       "33     0.044444\n",
       "34     0.033333\n",
       "35     0.044444\n",
       "36     0.005556\n",
       "37     0.011111\n",
       "38     0.038889\n",
       "39     0.005556\n",
       "40     0.027778\n",
       "41     0.005556\n",
       "42     0.005556\n",
       "43     0.005556\n",
       "44     0.005556\n",
       "45     0.011111\n",
       "46     0.005556\n",
       "47     0.011111\n",
       "48     0.011111\n",
       "50     0.005556\n",
       "All    1.000000\n",
       "Name: All, dtype: float64"
      ]
     },
     "execution_count": 75,
     "metadata": {},
     "output_type": "execute_result"
    }
   ],
   "source": [
    "pd.crosstab(index=df['Age'],columns=df['Product'],normalize=True,margins=True)['All']"
   ]
  },
  {
   "cell_type": "markdown",
   "id": "99511680",
   "metadata": {},
   "source": [
    "From the above we can see the probabilities of different age people buying a product from Aero-fit."
   ]
  },
  {
   "cell_type": "markdown",
   "id": "4e2127f2",
   "metadata": {},
   "source": [
    "**Lets categorize the people based on age**"
   ]
  },
  {
   "cell_type": "code",
   "execution_count": 76,
   "id": "d4dd91af",
   "metadata": {},
   "outputs": [],
   "source": [
    "age_labels = ['Young_adults','Adults','Aged adults']\n",
    "age_vals = [17,27,35,43]\n",
    "df['Age_kind'] = pd.cut(df['Age'],bins=age_vals,labels=age_labels)"
   ]
  },
  {
   "cell_type": "code",
   "execution_count": 77,
   "id": "d12026a7",
   "metadata": {},
   "outputs": [
    {
     "data": {
      "text/html": [
       "<div>\n",
       "<style scoped>\n",
       "    .dataframe tbody tr th:only-of-type {\n",
       "        vertical-align: middle;\n",
       "    }\n",
       "\n",
       "    .dataframe tbody tr th {\n",
       "        vertical-align: top;\n",
       "    }\n",
       "\n",
       "    .dataframe thead th {\n",
       "        text-align: right;\n",
       "    }\n",
       "</style>\n",
       "<table border=\"1\" class=\"dataframe\">\n",
       "  <thead>\n",
       "    <tr style=\"text-align: right;\">\n",
       "      <th></th>\n",
       "      <th>Product</th>\n",
       "      <th>Age</th>\n",
       "      <th>Gender</th>\n",
       "      <th>Education</th>\n",
       "      <th>MaritalStatus</th>\n",
       "      <th>Usage</th>\n",
       "      <th>Fitness</th>\n",
       "      <th>Income</th>\n",
       "      <th>Miles</th>\n",
       "      <th>PayType</th>\n",
       "      <th>Distance_Type</th>\n",
       "      <th>Age_kind</th>\n",
       "    </tr>\n",
       "  </thead>\n",
       "  <tbody>\n",
       "    <tr>\n",
       "      <th>0</th>\n",
       "      <td>KP281</td>\n",
       "      <td>18</td>\n",
       "      <td>Male</td>\n",
       "      <td>14</td>\n",
       "      <td>Single</td>\n",
       "      <td>3</td>\n",
       "      <td>4</td>\n",
       "      <td>29562</td>\n",
       "      <td>112</td>\n",
       "      <td>Low Pay</td>\n",
       "      <td>short_distance</td>\n",
       "      <td>Young_adults</td>\n",
       "    </tr>\n",
       "    <tr>\n",
       "      <th>1</th>\n",
       "      <td>KP281</td>\n",
       "      <td>19</td>\n",
       "      <td>Male</td>\n",
       "      <td>15</td>\n",
       "      <td>Single</td>\n",
       "      <td>2</td>\n",
       "      <td>3</td>\n",
       "      <td>31836</td>\n",
       "      <td>75</td>\n",
       "      <td>Low Pay</td>\n",
       "      <td>short_distance</td>\n",
       "      <td>Young_adults</td>\n",
       "    </tr>\n",
       "    <tr>\n",
       "      <th>2</th>\n",
       "      <td>KP281</td>\n",
       "      <td>19</td>\n",
       "      <td>Female</td>\n",
       "      <td>14</td>\n",
       "      <td>Partnered</td>\n",
       "      <td>4</td>\n",
       "      <td>3</td>\n",
       "      <td>30699</td>\n",
       "      <td>66</td>\n",
       "      <td>Low Pay</td>\n",
       "      <td>short_distance</td>\n",
       "      <td>Young_adults</td>\n",
       "    </tr>\n",
       "    <tr>\n",
       "      <th>3</th>\n",
       "      <td>KP281</td>\n",
       "      <td>19</td>\n",
       "      <td>Male</td>\n",
       "      <td>12</td>\n",
       "      <td>Single</td>\n",
       "      <td>3</td>\n",
       "      <td>3</td>\n",
       "      <td>32973</td>\n",
       "      <td>85</td>\n",
       "      <td>Low Pay</td>\n",
       "      <td>short_distance</td>\n",
       "      <td>Young_adults</td>\n",
       "    </tr>\n",
       "    <tr>\n",
       "      <th>4</th>\n",
       "      <td>KP281</td>\n",
       "      <td>20</td>\n",
       "      <td>Male</td>\n",
       "      <td>13</td>\n",
       "      <td>Partnered</td>\n",
       "      <td>4</td>\n",
       "      <td>2</td>\n",
       "      <td>35247</td>\n",
       "      <td>47</td>\n",
       "      <td>Low Pay</td>\n",
       "      <td>short_distance</td>\n",
       "      <td>Young_adults</td>\n",
       "    </tr>\n",
       "  </tbody>\n",
       "</table>\n",
       "</div>"
      ],
      "text/plain": [
       "  Product  Age  Gender  Education MaritalStatus  Usage  Fitness  Income  \\\n",
       "0   KP281   18    Male         14        Single      3        4   29562   \n",
       "1   KP281   19    Male         15        Single      2        3   31836   \n",
       "2   KP281   19  Female         14     Partnered      4        3   30699   \n",
       "3   KP281   19    Male         12        Single      3        3   32973   \n",
       "4   KP281   20    Male         13     Partnered      4        2   35247   \n",
       "\n",
       "   Miles  PayType   Distance_Type      Age_kind  \n",
       "0    112  Low Pay  short_distance  Young_adults  \n",
       "1     75  Low Pay  short_distance  Young_adults  \n",
       "2     66  Low Pay  short_distance  Young_adults  \n",
       "3     85  Low Pay  short_distance  Young_adults  \n",
       "4     47  Low Pay  short_distance  Young_adults  "
      ]
     },
     "execution_count": 77,
     "metadata": {},
     "output_type": "execute_result"
    }
   ],
   "source": [
    "df.head()"
   ]
  },
  {
   "cell_type": "markdown",
   "id": "5f3e9e1b",
   "metadata": {},
   "source": [
    "Now we have 3 different Age categories and we can see the probability of each category in buying the product from Aero-fit."
   ]
  },
  {
   "cell_type": "code",
   "execution_count": 78,
   "id": "82127b8d",
   "metadata": {},
   "outputs": [
    {
     "data": {
      "text/plain": [
       "Age_kind\n",
       "Young_adults    0.573099\n",
       "Adults          0.315789\n",
       "Aged adults     0.111111\n",
       "All             1.000000\n",
       "Name: All, dtype: float64"
      ]
     },
     "execution_count": 78,
     "metadata": {},
     "output_type": "execute_result"
    }
   ],
   "source": [
    "pd.crosstab(index=df['Age_kind'],columns=df['Product'],normalize=True,margins=True)['All']"
   ]
  },
  {
   "cell_type": "markdown",
   "id": "696f3912",
   "metadata": {},
   "source": [
    "From the above we can say that,\n",
    "\n",
    "* The probability of **Young adults** buying the product from Aero-fit is **0.5730**\n",
    "* The probability of **Adults** buying the product from Aero-fit is **0.3157**\n",
    "* The probability of **Aged adults** buying the product is **0.1112**"
   ]
  },
  {
   "cell_type": "markdown",
   "id": "493c7393",
   "metadata": {},
   "source": [
    "##### Conditional property for different age group people buying different type of products."
   ]
  },
  {
   "cell_type": "code",
   "execution_count": 79,
   "id": "fb6ed1cf",
   "metadata": {},
   "outputs": [
    {
     "data": {
      "text/html": [
       "<div>\n",
       "<style scoped>\n",
       "    .dataframe tbody tr th:only-of-type {\n",
       "        vertical-align: middle;\n",
       "    }\n",
       "\n",
       "    .dataframe tbody tr th {\n",
       "        vertical-align: top;\n",
       "    }\n",
       "\n",
       "    .dataframe thead th {\n",
       "        text-align: right;\n",
       "    }\n",
       "</style>\n",
       "<table border=\"1\" class=\"dataframe\">\n",
       "  <thead>\n",
       "    <tr style=\"text-align: right;\">\n",
       "      <th>Age_kind</th>\n",
       "      <th>Young_adults</th>\n",
       "      <th>Adults</th>\n",
       "      <th>Aged adults</th>\n",
       "    </tr>\n",
       "    <tr>\n",
       "      <th>Product</th>\n",
       "      <th></th>\n",
       "      <th></th>\n",
       "      <th></th>\n",
       "    </tr>\n",
       "  </thead>\n",
       "  <tbody>\n",
       "    <tr>\n",
       "      <th>KP281</th>\n",
       "      <td>0.257310</td>\n",
       "      <td>0.128655</td>\n",
       "      <td>0.058480</td>\n",
       "    </tr>\n",
       "    <tr>\n",
       "      <th>KP481</th>\n",
       "      <td>0.187135</td>\n",
       "      <td>0.116959</td>\n",
       "      <td>0.035088</td>\n",
       "    </tr>\n",
       "    <tr>\n",
       "      <th>KP781</th>\n",
       "      <td>0.128655</td>\n",
       "      <td>0.070175</td>\n",
       "      <td>0.017544</td>\n",
       "    </tr>\n",
       "  </tbody>\n",
       "</table>\n",
       "</div>"
      ],
      "text/plain": [
       "Age_kind  Young_adults    Adults  Aged adults\n",
       "Product                                      \n",
       "KP281         0.257310  0.128655     0.058480\n",
       "KP481         0.187135  0.116959     0.035088\n",
       "KP781         0.128655  0.070175     0.017544"
      ]
     },
     "execution_count": 79,
     "metadata": {},
     "output_type": "execute_result"
    }
   ],
   "source": [
    "pd.crosstab(index=df['Product'],columns=df['Age_kind'],normalize=True)"
   ]
  },
  {
   "cell_type": "markdown",
   "id": "e21ba618",
   "metadata": {},
   "source": [
    "From the above, we can say that\n",
    "\n",
    "* The probability of **Young adults** buying **KP281** is **0.2573**\n",
    "* The probability of **Adults** buying **KP281** is **0.1286**\n",
    "* The probability of **Aged Adults** buying **KP281** is **0.0584**\n",
    "<br></br>\n",
    "* The probability of **Young adults** buying **KP481** is **0.1871**\n",
    "* The probability of **Adults** buying **KP481** is **0.1169**\n",
    "* The probability of **Aged Adults** buying **KP481** is **0.0350**\n",
    "<br></br>\n",
    "* The probability of **Young adults** buying **KP781** is **0.1286**\n",
    "* The probability of **Adults** buying **KP781** is **0.0701**\n",
    "* The probability of **Aged Adults** buying **KP781** is **0.0175**"
   ]
  },
  {
   "cell_type": "markdown",
   "id": "e848dbf5",
   "metadata": {},
   "source": [
    "##### Marginal Probabilities of different fitness levels"
   ]
  },
  {
   "cell_type": "code",
   "execution_count": 80,
   "id": "56144c61",
   "metadata": {},
   "outputs": [
    {
     "data": {
      "text/plain": [
       "Fitness\n",
       "1      0.011111\n",
       "2      0.144444\n",
       "3      0.538889\n",
       "4      0.133333\n",
       "5      0.172222\n",
       "All    1.000000\n",
       "Name: All, dtype: float64"
      ]
     },
     "execution_count": 80,
     "metadata": {},
     "output_type": "execute_result"
    }
   ],
   "source": [
    "pd.crosstab(df['Fitness'],columns=df['Product'],normalize=True,margins=True)['All']"
   ]
  },
  {
   "cell_type": "markdown",
   "id": "e7a3ff7b",
   "metadata": {},
   "source": [
    "From the above we can see that,\n",
    "\n",
    "* The probability of people with fitness level as 1 is **0.0111**\n",
    "* The probability of people with fitness level as 2 is **0.1444**\n",
    "* The probability of people with fitness level as 3 is **0.53889**\n",
    "* The probability of people with fitness level as 4 is **0.1334**\n",
    "* The probability of people with fitness level as 5 is **0.17223**"
   ]
  },
  {
   "cell_type": "markdown",
   "id": "a7110b83",
   "metadata": {},
   "source": [
    "##### The conditional probabilties of fitness level of the people based on the product they bought:"
   ]
  },
  {
   "cell_type": "code",
   "execution_count": 81,
   "id": "35dc4560",
   "metadata": {},
   "outputs": [
    {
     "data": {
      "text/html": [
       "<div>\n",
       "<style scoped>\n",
       "    .dataframe tbody tr th:only-of-type {\n",
       "        vertical-align: middle;\n",
       "    }\n",
       "\n",
       "    .dataframe tbody tr th {\n",
       "        vertical-align: top;\n",
       "    }\n",
       "\n",
       "    .dataframe thead th {\n",
       "        text-align: right;\n",
       "    }\n",
       "</style>\n",
       "<table border=\"1\" class=\"dataframe\">\n",
       "  <thead>\n",
       "    <tr style=\"text-align: right;\">\n",
       "      <th>Fitness</th>\n",
       "      <th>1</th>\n",
       "      <th>2</th>\n",
       "      <th>3</th>\n",
       "      <th>4</th>\n",
       "      <th>5</th>\n",
       "    </tr>\n",
       "    <tr>\n",
       "      <th>Product</th>\n",
       "      <th></th>\n",
       "      <th></th>\n",
       "      <th></th>\n",
       "      <th></th>\n",
       "      <th></th>\n",
       "    </tr>\n",
       "  </thead>\n",
       "  <tbody>\n",
       "    <tr>\n",
       "      <th>KP281</th>\n",
       "      <td>0.005556</td>\n",
       "      <td>0.077778</td>\n",
       "      <td>0.300000</td>\n",
       "      <td>0.050000</td>\n",
       "      <td>0.011111</td>\n",
       "    </tr>\n",
       "    <tr>\n",
       "      <th>KP481</th>\n",
       "      <td>0.005556</td>\n",
       "      <td>0.066667</td>\n",
       "      <td>0.216667</td>\n",
       "      <td>0.044444</td>\n",
       "      <td>0.000000</td>\n",
       "    </tr>\n",
       "    <tr>\n",
       "      <th>KP781</th>\n",
       "      <td>0.000000</td>\n",
       "      <td>0.000000</td>\n",
       "      <td>0.022222</td>\n",
       "      <td>0.038889</td>\n",
       "      <td>0.161111</td>\n",
       "    </tr>\n",
       "  </tbody>\n",
       "</table>\n",
       "</div>"
      ],
      "text/plain": [
       "Fitness         1         2         3         4         5\n",
       "Product                                                  \n",
       "KP281    0.005556  0.077778  0.300000  0.050000  0.011111\n",
       "KP481    0.005556  0.066667  0.216667  0.044444  0.000000\n",
       "KP781    0.000000  0.000000  0.022222  0.038889  0.161111"
      ]
     },
     "execution_count": 81,
     "metadata": {},
     "output_type": "execute_result"
    }
   ],
   "source": [
    "pd.crosstab(df['Product'],df['Fitness'],normalize=True)"
   ]
  },
  {
   "cell_type": "markdown",
   "id": "89bf1c84",
   "metadata": {},
   "source": [
    "From the above grid, we can say that\n",
    "\n",
    "* The probability of people with fitness level **1** and buying the product **KP281** is **0.005566**\n",
    "* The probability of people with fitness level **2** and buying the product **KP281** is **0.0778**\n",
    "* The probability of people with fitness level **3** and buying the product **KP281** is **0.300**\n",
    "* The probability of people with fitness level **4** and buying the product **KP281** is **0.050**\n",
    "* The probability of people with fitness level **5** and buying the product **KP281** is **0.0111**\n",
    "<br></br>\n",
    "* The probability of people with fitness level **1** and buying the product **KP481** is **0.005566**\n",
    "* The probability of people with fitness level **2** and buying the product **KP481** is **0.0666**\n",
    "* The probability of people with fitness level **3** and buying the product **KP481** is **0.21667**\n",
    "* The probability of people with fitness level **4** and buying the product **KP481** is **0.0444**\n",
    "* The probability of people with fitness level **5** and buying the product **KP481** is **0.00**\n",
    "<br></br>\n",
    "* The probability of people with fitness level **1** and buying the product **KP781** is **0.00000**\n",
    "* The probability of people with fitness level **2** and buying the product **KP781** is **0.00000**\n",
    "* The probability of people with fitness level **3** and buying the product **KP781** is **0.02222**\n",
    "* The probability of people with fitness level **4** and buying the product **KP781** is **0.038889**\n",
    "* The probability of people with fitness level **5** and buying the product **KP781** is **0.16111**"
   ]
  },
  {
   "cell_type": "markdown",
   "id": "3fe26983",
   "metadata": {},
   "source": [
    "##### Marginal probabilities of people's usage levels"
   ]
  },
  {
   "cell_type": "code",
   "execution_count": 82,
   "id": "86a67557",
   "metadata": {},
   "outputs": [
    {
     "data": {
      "text/html": [
       "<div>\n",
       "<style scoped>\n",
       "    .dataframe tbody tr th:only-of-type {\n",
       "        vertical-align: middle;\n",
       "    }\n",
       "\n",
       "    .dataframe tbody tr th {\n",
       "        vertical-align: top;\n",
       "    }\n",
       "\n",
       "    .dataframe thead th {\n",
       "        text-align: right;\n",
       "    }\n",
       "</style>\n",
       "<table border=\"1\" class=\"dataframe\">\n",
       "  <thead>\n",
       "    <tr style=\"text-align: right;\">\n",
       "      <th></th>\n",
       "      <th>Product</th>\n",
       "      <th>Age</th>\n",
       "      <th>Gender</th>\n",
       "      <th>Education</th>\n",
       "      <th>MaritalStatus</th>\n",
       "      <th>Usage</th>\n",
       "      <th>Fitness</th>\n",
       "      <th>Income</th>\n",
       "      <th>Miles</th>\n",
       "      <th>PayType</th>\n",
       "      <th>Distance_Type</th>\n",
       "      <th>Age_kind</th>\n",
       "    </tr>\n",
       "  </thead>\n",
       "  <tbody>\n",
       "    <tr>\n",
       "      <th>0</th>\n",
       "      <td>KP281</td>\n",
       "      <td>18</td>\n",
       "      <td>Male</td>\n",
       "      <td>14</td>\n",
       "      <td>Single</td>\n",
       "      <td>3</td>\n",
       "      <td>4</td>\n",
       "      <td>29562</td>\n",
       "      <td>112</td>\n",
       "      <td>Low Pay</td>\n",
       "      <td>short_distance</td>\n",
       "      <td>Young_adults</td>\n",
       "    </tr>\n",
       "    <tr>\n",
       "      <th>1</th>\n",
       "      <td>KP281</td>\n",
       "      <td>19</td>\n",
       "      <td>Male</td>\n",
       "      <td>15</td>\n",
       "      <td>Single</td>\n",
       "      <td>2</td>\n",
       "      <td>3</td>\n",
       "      <td>31836</td>\n",
       "      <td>75</td>\n",
       "      <td>Low Pay</td>\n",
       "      <td>short_distance</td>\n",
       "      <td>Young_adults</td>\n",
       "    </tr>\n",
       "    <tr>\n",
       "      <th>2</th>\n",
       "      <td>KP281</td>\n",
       "      <td>19</td>\n",
       "      <td>Female</td>\n",
       "      <td>14</td>\n",
       "      <td>Partnered</td>\n",
       "      <td>4</td>\n",
       "      <td>3</td>\n",
       "      <td>30699</td>\n",
       "      <td>66</td>\n",
       "      <td>Low Pay</td>\n",
       "      <td>short_distance</td>\n",
       "      <td>Young_adults</td>\n",
       "    </tr>\n",
       "    <tr>\n",
       "      <th>3</th>\n",
       "      <td>KP281</td>\n",
       "      <td>19</td>\n",
       "      <td>Male</td>\n",
       "      <td>12</td>\n",
       "      <td>Single</td>\n",
       "      <td>3</td>\n",
       "      <td>3</td>\n",
       "      <td>32973</td>\n",
       "      <td>85</td>\n",
       "      <td>Low Pay</td>\n",
       "      <td>short_distance</td>\n",
       "      <td>Young_adults</td>\n",
       "    </tr>\n",
       "    <tr>\n",
       "      <th>4</th>\n",
       "      <td>KP281</td>\n",
       "      <td>20</td>\n",
       "      <td>Male</td>\n",
       "      <td>13</td>\n",
       "      <td>Partnered</td>\n",
       "      <td>4</td>\n",
       "      <td>2</td>\n",
       "      <td>35247</td>\n",
       "      <td>47</td>\n",
       "      <td>Low Pay</td>\n",
       "      <td>short_distance</td>\n",
       "      <td>Young_adults</td>\n",
       "    </tr>\n",
       "  </tbody>\n",
       "</table>\n",
       "</div>"
      ],
      "text/plain": [
       "  Product  Age  Gender  Education MaritalStatus  Usage  Fitness  Income  \\\n",
       "0   KP281   18    Male         14        Single      3        4   29562   \n",
       "1   KP281   19    Male         15        Single      2        3   31836   \n",
       "2   KP281   19  Female         14     Partnered      4        3   30699   \n",
       "3   KP281   19    Male         12        Single      3        3   32973   \n",
       "4   KP281   20    Male         13     Partnered      4        2   35247   \n",
       "\n",
       "   Miles  PayType   Distance_Type      Age_kind  \n",
       "0    112  Low Pay  short_distance  Young_adults  \n",
       "1     75  Low Pay  short_distance  Young_adults  \n",
       "2     66  Low Pay  short_distance  Young_adults  \n",
       "3     85  Low Pay  short_distance  Young_adults  \n",
       "4     47  Low Pay  short_distance  Young_adults  "
      ]
     },
     "execution_count": 82,
     "metadata": {},
     "output_type": "execute_result"
    }
   ],
   "source": [
    "df.head()"
   ]
  },
  {
   "cell_type": "code",
   "execution_count": 83,
   "id": "200e0dd8",
   "metadata": {},
   "outputs": [
    {
     "data": {
      "text/plain": [
       "Usage\n",
       "2      0.183333\n",
       "3      0.383333\n",
       "4      0.288889\n",
       "5      0.094444\n",
       "6      0.038889\n",
       "7      0.011111\n",
       "All    1.000000\n",
       "Name: All, dtype: float64"
      ]
     },
     "execution_count": 83,
     "metadata": {},
     "output_type": "execute_result"
    }
   ],
   "source": [
    "pd.crosstab(df['Usage'],df['Product'],normalize=True,margins=True)['All']"
   ]
  },
  {
   "cell_type": "markdown",
   "id": "4a7fdefd",
   "metadata": {},
   "source": [
    "From the above we can see that,\n",
    "\n",
    "* The probability of people using the product **Twice** in a week is **0.1834**\n",
    "* The probability of people using the product **Thrice** in a week is **0.3834**\n",
    "* The probability of people using the product **Four times** in a week is **0.2889**\n",
    "* The probability of people using the product **Five times** in a week is **0.0944**\n",
    "* The probability of people using the product **Six times** in a week is **0.03889**\n",
    "* The probability of people using the product **Seven times** in a week is **0.0112**\n",
    "<br></br>\n",
    "Most number of people tends to use any of the product from Aerofit thrice in the week"
   ]
  },
  {
   "cell_type": "markdown",
   "id": "b514f40d",
   "metadata": {},
   "source": [
    "##### Conditional probability of people's usage based on different product's."
   ]
  },
  {
   "cell_type": "code",
   "execution_count": 84,
   "id": "2fcc6817",
   "metadata": {},
   "outputs": [
    {
     "data": {
      "text/html": [
       "<div>\n",
       "<style scoped>\n",
       "    .dataframe tbody tr th:only-of-type {\n",
       "        vertical-align: middle;\n",
       "    }\n",
       "\n",
       "    .dataframe tbody tr th {\n",
       "        vertical-align: top;\n",
       "    }\n",
       "\n",
       "    .dataframe thead th {\n",
       "        text-align: right;\n",
       "    }\n",
       "</style>\n",
       "<table border=\"1\" class=\"dataframe\">\n",
       "  <thead>\n",
       "    <tr style=\"text-align: right;\">\n",
       "      <th>Usage</th>\n",
       "      <th>2</th>\n",
       "      <th>3</th>\n",
       "      <th>4</th>\n",
       "      <th>5</th>\n",
       "      <th>6</th>\n",
       "      <th>7</th>\n",
       "    </tr>\n",
       "    <tr>\n",
       "      <th>Product</th>\n",
       "      <th></th>\n",
       "      <th></th>\n",
       "      <th></th>\n",
       "      <th></th>\n",
       "      <th></th>\n",
       "      <th></th>\n",
       "    </tr>\n",
       "  </thead>\n",
       "  <tbody>\n",
       "    <tr>\n",
       "      <th>KP281</th>\n",
       "      <td>0.105556</td>\n",
       "      <td>0.205556</td>\n",
       "      <td>0.122222</td>\n",
       "      <td>0.011111</td>\n",
       "      <td>0.000000</td>\n",
       "      <td>0.000000</td>\n",
       "    </tr>\n",
       "    <tr>\n",
       "      <th>KP481</th>\n",
       "      <td>0.077778</td>\n",
       "      <td>0.172222</td>\n",
       "      <td>0.066667</td>\n",
       "      <td>0.016667</td>\n",
       "      <td>0.000000</td>\n",
       "      <td>0.000000</td>\n",
       "    </tr>\n",
       "    <tr>\n",
       "      <th>KP781</th>\n",
       "      <td>0.000000</td>\n",
       "      <td>0.005556</td>\n",
       "      <td>0.100000</td>\n",
       "      <td>0.066667</td>\n",
       "      <td>0.038889</td>\n",
       "      <td>0.011111</td>\n",
       "    </tr>\n",
       "  </tbody>\n",
       "</table>\n",
       "</div>"
      ],
      "text/plain": [
       "Usage           2         3         4         5         6         7\n",
       "Product                                                            \n",
       "KP281    0.105556  0.205556  0.122222  0.011111  0.000000  0.000000\n",
       "KP481    0.077778  0.172222  0.066667  0.016667  0.000000  0.000000\n",
       "KP781    0.000000  0.005556  0.100000  0.066667  0.038889  0.011111"
      ]
     },
     "execution_count": 84,
     "metadata": {},
     "output_type": "execute_result"
    }
   ],
   "source": [
    "pd.crosstab(df['Product'],df['Usage'],normalize=True)"
   ]
  },
  {
   "cell_type": "markdown",
   "id": "38ea81f4",
   "metadata": {},
   "source": [
    "From the above grid,\n",
    "\n",
    "* The probability of people using **KP281** 2 times in a week is **0.10556**\n",
    "* The probability of people using **KP481** 2 times in a week is **0.0778**\n",
    "* The probability of people using **KP781** 2 times in a week is **0.000**\n",
    "<br></br>\n",
    "* The probability of people using **KP281** 3 times in a week is **0.20556**\n",
    "* The probability of people using **KP481** 3 times in a week is **0.17222**\n",
    "* The probability of people using **KP781** 3 times in a week is **0.0056**\n",
    "<br></br>\n",
    "* The probability of people using **KP281** 4 times in a week is **0.1222**\n",
    "* The probability of people using **KP481** 4 times in a week is **0.06667**\n",
    "* The probability of people using **KP781** 4 times in a week is **0.01667**\n",
    "<br></br>\n",
    "* The probability of people using **KP281** 5 times in a week is **0.0111**\n",
    "* The probability of people using **KP481** 5 times in a week is **0.01667**\n",
    "* The probability of people using **KP781** 5 times in a week is **0.0667**\n",
    "<br></br>\n",
    "* The probability of people using **KP281** 6 times in a week is **0.000**\n",
    "* The probability of people using **KP481** 6 times in a week is **0.000**\n",
    "* The probability of people using **KP781** 6 times in a week is **0.03889**\n",
    "<br></br>\n",
    "* The probability of people using **KP281** 7 times in a week is **0.000**\n",
    "* The probability of people using **KP481** 7 times in a week is **0.000**\n",
    "* The probability of people using **KP781** 7 times in a week is **0.0111**"
   ]
  },
  {
   "cell_type": "markdown",
   "id": "57d714a1",
   "metadata": {},
   "source": [
    "* Most of the people who own **KP781** uses the product mostly for 6 times in a week. And the people who own **KP281** or **KP481** uses the product 3 times in a week."
   ]
  },
  {
   "cell_type": "code",
   "execution_count": null,
   "id": "7e97f436",
   "metadata": {},
   "outputs": [],
   "source": []
  }
 ],
 "metadata": {
  "kernelspec": {
   "display_name": "Python 3 (ipykernel)",
   "language": "python",
   "name": "python3"
  },
  "language_info": {
   "codemirror_mode": {
    "name": "ipython",
    "version": 3
   },
   "file_extension": ".py",
   "mimetype": "text/x-python",
   "name": "python",
   "nbconvert_exporter": "python",
   "pygments_lexer": "ipython3",
   "version": "3.10.9"
  }
 },
 "nbformat": 4,
 "nbformat_minor": 5
}
